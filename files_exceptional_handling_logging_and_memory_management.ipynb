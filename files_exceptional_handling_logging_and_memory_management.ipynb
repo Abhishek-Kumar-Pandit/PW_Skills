{
  "nbformat": 4,
  "nbformat_minor": 0,
  "metadata": {
    "colab": {
      "provenance": []
    },
    "kernelspec": {
      "name": "python3",
      "display_name": "Python 3"
    },
    "language_info": {
      "name": "python"
    }
  },
  "cells": [
    {
      "cell_type": "markdown",
      "source": [
        "1. What is the difference between interpreted and compiled languages?\n",
        "\n",
        "Ans :\n",
        "\n",
        "Compiled Languages:\n",
        "* Compilation Process: The source code is translated into machine code (binary code) by a compiler before it is executed. This results in an executable file that can run directly on the computer's hardware.\n",
        "* Execution: After compilation, the program can be run without needing the original source code or a compiler.\n",
        "* Speed: Programs run faster because the translation happens once, and the resulting machine code is directly executed by the hardware.\n",
        "* Examples: C, C++, Rust, Go.\n",
        "\n",
        "Interpreted Languages:\n",
        "* Interpretation Process: The source code is executed line-by-line by an interpreter. The interpreter reads and translates the code during runtime, meaning the program isn't fully compiled into machine code beforehand.\n",
        "* Execution: The source code is required each time the program is run, and it must be processed by the interpreter each time.\n",
        "* Speed: Programs tend to run slower because of the ongoing interpretation process during execution.\n",
        "* Examples: Python, JavaScript, Ruby, PHP."
      ],
      "metadata": {
        "id": "iCBFmCZTEWP0"
      }
    },
    {
      "cell_type": "markdown",
      "source": [
        "2. What is exception handling in Python?\n",
        "\n",
        "Ans :    \n",
        "\n",
        "Exception handling in Python is a mechanism to detect and respond to errors or \"exceptions\" that occur during program execution. It ensures the program can continue running or terminate gracefully without unexpected crashes.\n",
        "\n",
        "Key Components of Exception Handling:\n",
        "\n",
        "a. Exception:\n",
        "An exception is an error that disrupts normal program execution. Examples include:\n",
        "* ZeroDivisionError (e.g., dividing by zero)\n",
        "* FileNotFoundError (e.g., file not found)\n",
        "* ValueError (e.g., invalid input)\n",
        "\n",
        "b. Try-Except Block:\n",
        "\n",
        "Python uses the try and except keywords to handle exceptions."
      ],
      "metadata": {
        "id": "XYKeYoxIGCsb"
      }
    },
    {
      "cell_type": "code",
      "source": [
        "try:\n",
        "    num = int(input(\"Enter a number: \"))\n",
        "    result = 10 / num\n",
        "    print(\"Result:\", result)\n",
        "except ZeroDivisionError:\n",
        "    print(\"You can't divide by zero!\")\n",
        "except ValueError:\n",
        "    print(\"Invalid input! Please enter a number.\")\n"
      ],
      "metadata": {
        "colab": {
          "base_uri": "https://localhost:8080/"
        },
        "id": "fWSYCeM9JksP",
        "outputId": "be56056d-c41d-4066-db3d-46b6ffc7e05e"
      },
      "execution_count": null,
      "outputs": [
        {
          "output_type": "stream",
          "name": "stdout",
          "text": [
            "Enter a number: 5\n",
            "Result: 2.0\n"
          ]
        }
      ]
    },
    {
      "cell_type": "markdown",
      "source": [
        "c.  Optional Clauses:\n",
        "* else: Executes code if no exception occurs.\n",
        "* finally: Executes code regardless of whether an exception occurs (commonly used for cleanup)."
      ],
      "metadata": {
        "id": "n_sFnvIFJodA"
      }
    },
    {
      "cell_type": "code",
      "source": [
        "try:\n",
        "    file = open(\"example.txt\", \"r\")\n",
        "    content = file.read()\n",
        "except FileNotFoundError:\n",
        "    print(\"File not found!\")\n",
        "else:\n",
        "    print(content)\n",
        "finally:\n",
        "    print(\"Execution complete.\")\n"
      ],
      "metadata": {
        "colab": {
          "base_uri": "https://localhost:8080/"
        },
        "id": "loyyXQsdJxFI",
        "outputId": "f011de6a-0cce-40d8-e3b7-510556c6fdfa"
      },
      "execution_count": null,
      "outputs": [
        {
          "output_type": "stream",
          "name": "stdout",
          "text": [
            "File not found!\n",
            "Execution complete.\n"
          ]
        }
      ]
    },
    {
      "cell_type": "markdown",
      "source": [
        "d.  Raise Exceptions:\n",
        "\n",
        "You can raise exceptions manually using the raise keyword."
      ],
      "metadata": {
        "id": "TkJtJuiDJ1Ax"
      }
    },
    {
      "cell_type": "code",
      "source": [
        "age = -5\n",
        "if age < 0:\n",
        "    raise ValueError(\"Age cannot be negative.\")\n"
      ],
      "metadata": {
        "colab": {
          "base_uri": "https://localhost:8080/",
          "height": 176
        },
        "id": "5ySg_KSKJ6yB",
        "outputId": "088d82e5-ce8c-4c0a-c090-fbba810fe713"
      },
      "execution_count": null,
      "outputs": [
        {
          "output_type": "error",
          "ename": "ValueError",
          "evalue": "Age cannot be negative.",
          "traceback": [
            "\u001b[0;31m---------------------------------------------------------------------------\u001b[0m",
            "\u001b[0;31mValueError\u001b[0m                                Traceback (most recent call last)",
            "\u001b[0;32m<ipython-input-14-62ff7a77d496>\u001b[0m in \u001b[0;36m<cell line: 2>\u001b[0;34m()\u001b[0m\n\u001b[1;32m      1\u001b[0m \u001b[0mage\u001b[0m \u001b[0;34m=\u001b[0m \u001b[0;34m-\u001b[0m\u001b[0;36m5\u001b[0m\u001b[0;34m\u001b[0m\u001b[0;34m\u001b[0m\u001b[0m\n\u001b[1;32m      2\u001b[0m \u001b[0;32mif\u001b[0m \u001b[0mage\u001b[0m \u001b[0;34m<\u001b[0m \u001b[0;36m0\u001b[0m\u001b[0;34m:\u001b[0m\u001b[0;34m\u001b[0m\u001b[0;34m\u001b[0m\u001b[0m\n\u001b[0;32m----> 3\u001b[0;31m     \u001b[0;32mraise\u001b[0m \u001b[0mValueError\u001b[0m\u001b[0;34m(\u001b[0m\u001b[0;34m\"Age cannot be negative.\"\u001b[0m\u001b[0;34m)\u001b[0m\u001b[0;34m\u001b[0m\u001b[0;34m\u001b[0m\u001b[0m\n\u001b[0m",
            "\u001b[0;31mValueError\u001b[0m: Age cannot be negative."
          ]
        }
      ]
    },
    {
      "cell_type": "markdown",
      "source": [
        "e. Custom Exceptions:\n",
        "\n",
        "Python allows creating custom exceptions by subclassing the Exception class."
      ],
      "metadata": {
        "id": "CJnHztf0KMdD"
      }
    },
    {
      "cell_type": "code",
      "source": [
        "class CustomError(Exception):\n",
        "    pass\n",
        "\n",
        "try:\n",
        "    raise CustomError(\"This is a custom exception!\")\n",
        "except CustomError as e:\n",
        "    print(e)\n"
      ],
      "metadata": {
        "colab": {
          "base_uri": "https://localhost:8080/"
        },
        "id": "UJIo4fV_KRA8",
        "outputId": "a8072da3-9203-473c-cc64-41793ddce9bc"
      },
      "execution_count": null,
      "outputs": [
        {
          "output_type": "stream",
          "name": "stdout",
          "text": [
            "This is a custom exception!\n"
          ]
        }
      ]
    },
    {
      "cell_type": "markdown",
      "source": [
        "Uses of Exception Handling\n",
        "* Error Prevention: Prevents unexpected program crashes.\n",
        "* Graceful Recovery: Allows the program to handle errors and continue executing.\n",
        "* Debugging Assistance: Provides detailed error messages for debugging.\n",
        "* Improved User Experience: Allows user-friendly error messages instead of cryptic error outputs."
      ],
      "metadata": {
        "id": "A2S8WkMrKWpz"
      }
    },
    {
      "cell_type": "markdown",
      "source": [
        "3. What is the purpose of the finally block in exception handling?\n",
        "\n",
        "Ans :    \n",
        "\n",
        "The finally block in exception handling is used to define code that will execute regardless of whether an exception occurred or not in the try block. It is often used for cleanup activities, such as releasing resources, closing files, or resetting states.\n",
        "\n",
        "Characteristics of the finally Block:\n",
        "\n",
        "a. Always Executes: The code inside the finally block runs whether an exception is raised or not, even if there is a return, break, or continue statement in the try or except blocks.\n",
        "\n",
        "b. Cleanup Operations: Commonly used for tasks like:\n",
        "* Closing a file or database connection.\n",
        "* Releasing a lock.\n",
        "* Releasing system resources.\n",
        "\n",
        "Syntax:"
      ],
      "metadata": {
        "id": "NqlXAIrcKjOF"
      }
    },
    {
      "cell_type": "code",
      "source": [
        "try:\n",
        "    # Code that might raise an exception\n",
        "except ExceptionType:\n",
        "    # Code to handle the exception\n",
        "finally:\n",
        "    # Code that will always run\n"
      ],
      "metadata": {
        "id": "naUOwoDWLN0R"
      },
      "execution_count": null,
      "outputs": []
    },
    {
      "cell_type": "markdown",
      "source": [
        "Examples:\n",
        "\n",
        "a. Ensuring Resource Release:"
      ],
      "metadata": {
        "id": "lKmiG4TFLRJB"
      }
    },
    {
      "cell_type": "code",
      "source": [
        "try:\n",
        "    file = open(\"example.txt\", \"r\")\n",
        "    content = file.read()\n",
        "    print(content)\n",
        "except FileNotFoundError:\n",
        "    print(\"File not found!\")\n",
        "finally:\n",
        "    file.close()  # Ensures the file is closed\n",
        "    print(\"File closed.\")\n"
      ],
      "metadata": {
        "colab": {
          "base_uri": "https://localhost:8080/",
          "height": 211
        },
        "id": "hmFyKe2ALXIy",
        "outputId": "d759cfd3-5a92-4d30-ddf2-01912d67e080"
      },
      "execution_count": null,
      "outputs": [
        {
          "output_type": "stream",
          "name": "stdout",
          "text": [
            "File not found!\n"
          ]
        },
        {
          "output_type": "error",
          "ename": "NameError",
          "evalue": "name 'file' is not defined",
          "traceback": [
            "\u001b[0;31m---------------------------------------------------------------------------\u001b[0m",
            "\u001b[0;31mNameError\u001b[0m                                 Traceback (most recent call last)",
            "\u001b[0;32m<ipython-input-20-5afd6c3e95a4>\u001b[0m in \u001b[0;36m<cell line: 1>\u001b[0;34m()\u001b[0m\n\u001b[1;32m      6\u001b[0m     \u001b[0mprint\u001b[0m\u001b[0;34m(\u001b[0m\u001b[0;34m\"File not found!\"\u001b[0m\u001b[0;34m)\u001b[0m\u001b[0;34m\u001b[0m\u001b[0;34m\u001b[0m\u001b[0m\n\u001b[1;32m      7\u001b[0m \u001b[0;32mfinally\u001b[0m\u001b[0;34m:\u001b[0m\u001b[0;34m\u001b[0m\u001b[0;34m\u001b[0m\u001b[0m\n\u001b[0;32m----> 8\u001b[0;31m     \u001b[0mfile\u001b[0m\u001b[0;34m.\u001b[0m\u001b[0mclose\u001b[0m\u001b[0;34m(\u001b[0m\u001b[0;34m)\u001b[0m  \u001b[0;31m# Ensures the file is closed\u001b[0m\u001b[0;34m\u001b[0m\u001b[0;34m\u001b[0m\u001b[0m\n\u001b[0m\u001b[1;32m      9\u001b[0m     \u001b[0mprint\u001b[0m\u001b[0;34m(\u001b[0m\u001b[0;34m\"File closed.\"\u001b[0m\u001b[0;34m)\u001b[0m\u001b[0;34m\u001b[0m\u001b[0;34m\u001b[0m\u001b[0m\n",
            "\u001b[0;31mNameError\u001b[0m: name 'file' is not defined"
          ]
        }
      ]
    },
    {
      "cell_type": "markdown",
      "source": [
        "b.  Execution Without Exceptions:"
      ],
      "metadata": {
        "id": "Js4AK5YZLjdb"
      }
    },
    {
      "cell_type": "code",
      "source": [
        "try:\n",
        "    print(\"No exceptions here.\")\n",
        "finally:\n",
        "    print(\"This will run regardless.\")\n"
      ],
      "metadata": {
        "colab": {
          "base_uri": "https://localhost:8080/"
        },
        "id": "Bgj71feALojb",
        "outputId": "358387f5-c3ef-4782-fb60-c556c4e66936"
      },
      "execution_count": null,
      "outputs": [
        {
          "output_type": "stream",
          "name": "stdout",
          "text": [
            "No exceptions here.\n",
            "This will run regardless.\n"
          ]
        }
      ]
    },
    {
      "cell_type": "markdown",
      "source": [
        "c. Handling Exceptions with finally:"
      ],
      "metadata": {
        "id": "f4BXK5F1L9xt"
      }
    },
    {
      "cell_type": "code",
      "source": [
        "try:\n",
        "    x = 10 / 0\n",
        "except ZeroDivisionError:\n",
        "    print(\"Cannot divide by zero!\")\n",
        "finally:\n",
        "    print(\"Execution complete.\")\n"
      ],
      "metadata": {
        "colab": {
          "base_uri": "https://localhost:8080/"
        },
        "id": "uZqYCiORMv6K",
        "outputId": "336910e8-aac6-49e6-d385-94c8dd4252b2"
      },
      "execution_count": null,
      "outputs": [
        {
          "output_type": "stream",
          "name": "stdout",
          "text": [
            "Cannot divide by zero!\n",
            "Execution complete.\n"
          ]
        }
      ]
    },
    {
      "cell_type": "markdown",
      "source": [
        "4. What is logging in Python?\n",
        "\n",
        "Ans :     \n",
        "\n",
        "Logging in Python is a feature provided by the built-in logging module that allows developers to track events and issues that occur during program execution. It is primarily used for debugging, monitoring, and keeping a record of application behavior.\n",
        "\n",
        "Purpose of Logging:\n",
        "* Debugging: Helps identify bugs and errors in the code.\n",
        "* Monitoring: Keeps track of the program's execution flow.\n",
        "* Auditing: Provides a record of events, which can be useful for understanding past issues.\n",
        "* Error Tracking: Captures and logs exceptions or unexpected events for later analysis.\n",
        "\n",
        "Basic Logging Concepts:\n",
        "\n",
        "a. Levels of Logging: Python’s logging module provides five standard logging levels to categorize events:\n",
        "* DEBUG: Detailed information, typically for diagnosing problems.\n",
        "* INFO: Confirmation that things are working as expected.\n",
        "* WARNING: Indicates something unexpected or an issue that may not immediately cause problems.\n",
        "* ERROR: A more serious issue that prevents part of the program from working.\n",
        "* CRITICAL: A serious error that may prevent the entire program from continuing.\n",
        "\n",
        "Example:"
      ],
      "metadata": {
        "id": "pSleTMHTMy3y"
      }
    },
    {
      "cell_type": "code",
      "source": [
        "import logging\n",
        "\n",
        "logging.debug(\"This is a debug message\")\n",
        "logging.info(\"This is an info message\")\n",
        "logging.warning(\"This is a warning message\")\n",
        "logging.error(\"This is an error message\")\n",
        "logging.critical(\"This is a critical message\")\n"
      ],
      "metadata": {
        "colab": {
          "base_uri": "https://localhost:8080/"
        },
        "id": "P1ex8zNbOJ9L",
        "outputId": "63d0041e-d9bc-4e24-9755-257e5d7cb7de"
      },
      "execution_count": null,
      "outputs": [
        {
          "output_type": "stream",
          "name": "stderr",
          "text": [
            "WARNING:root:This is a warning message\n",
            "ERROR:root:This is an error message\n",
            "CRITICAL:root:This is a critical message\n"
          ]
        }
      ]
    },
    {
      "cell_type": "markdown",
      "source": [
        "b. Logging to a File: You can configure logging to write messages to a file instead of the console:"
      ],
      "metadata": {
        "id": "xIA4KElYOMZq"
      }
    },
    {
      "cell_type": "code",
      "source": [
        "import logging\n",
        "\n",
        "logging.basicConfig(filename='app.log', level=logging.DEBUG)\n",
        "logging.info(\"Logging information to a file!\")\n"
      ],
      "metadata": {
        "id": "98c-0j8-OQ27"
      },
      "execution_count": null,
      "outputs": []
    },
    {
      "cell_type": "markdown",
      "source": [
        "c. Configuring the Logging Format: Customize the format of log messages to include additional details like time, level, and message:"
      ],
      "metadata": {
        "id": "naChMR58OS9T"
      }
    },
    {
      "cell_type": "code",
      "source": [
        "import logging\n",
        "\n",
        "logging.basicConfig(\n",
        "    filename='app.log',\n",
        "    level=logging.DEBUG,\n",
        "    format='%(asctime)s - %(levelname)s - %(message)s'\n",
        ")\n",
        "logging.error(\"An error occurred!\")\n"
      ],
      "metadata": {
        "colab": {
          "base_uri": "https://localhost:8080/"
        },
        "id": "6nLYbZhmOYW8",
        "outputId": "6b33d30e-a89d-4921-eed2-31b9f1ad1bff"
      },
      "execution_count": null,
      "outputs": [
        {
          "output_type": "stream",
          "name": "stderr",
          "text": [
            "ERROR:root:An error occurred!\n"
          ]
        }
      ]
    },
    {
      "cell_type": "markdown",
      "source": [
        "Benefits of Logging:\n",
        "- Flexibility: Logs can be written to files, displayed in the console, or sent to external systems.\n",
        "- Control: Logging levels allow developers to filter messages based on severity.\n",
        "- Scalability: Suitable for both small scripts and large-scale applications.\n",
        "- Persistent Records: Logs provide a historical record of events for later analysis."
      ],
      "metadata": {
        "id": "xnXQLQWcOgBF"
      }
    },
    {
      "cell_type": "markdown",
      "source": [
        "5. What is the significance of the __del__ method in Python?\n",
        "\n",
        "Ans :    \n",
        "\n",
        "The __del__ method in Python is a special method, also known as a destructor, that is automatically called when an object is about to be destroyed. It allows you to define custom cleanup behavior, such as releasing resources or performing final tasks, before the object is removed from memory by the Python garbage collector.\n",
        "\n",
        "Key Characteristics:\n",
        "\n",
        "a. Purpose:\n",
        "\n",
        "It is used to clean up resources (e.g., closing files, network connections, or database connections) that the object holds.\n",
        "Acts as the last step in the lifecycle of an object.\n",
        "\n",
        "b. Automatic Invocation:\n",
        "\n",
        "The method is automatically invoked when the object's reference count reaches zero (i.e., when it is no longer referenced anywhere in the program).\n",
        "\n",
        "c. Syntax:"
      ],
      "metadata": {
        "id": "nmlKSSMIOqGl"
      }
    },
    {
      "cell_type": "code",
      "source": [
        "class MyClass:\n",
        "    def __del__(self):\n",
        "        print(\"Destructor called. Object is being deleted.\")\n"
      ],
      "metadata": {
        "id": "3qx5_534PQpJ"
      },
      "execution_count": null,
      "outputs": []
    },
    {
      "cell_type": "markdown",
      "source": [
        "Exmple\n",
        "\n"
      ],
      "metadata": {
        "id": "a_ih9VmAPa4K"
      }
    },
    {
      "cell_type": "code",
      "source": [
        "class Demo:\n",
        "    def __init__(self):\n",
        "        print(\"Object created.\")\n",
        "\n",
        "    def __del__(self):\n",
        "        print(\"Destructor called. Cleaning up...\")\n",
        "\n",
        "# Creating and deleting an object\n",
        "obj = Demo()\n",
        "del obj  # Explicitly deleting the object\n"
      ],
      "metadata": {
        "colab": {
          "base_uri": "https://localhost:8080/"
        },
        "id": "TeQgulXhPffi",
        "outputId": "43dbaa6d-c343-4511-d4ae-7663f1c3c053"
      },
      "execution_count": null,
      "outputs": [
        {
          "output_type": "stream",
          "name": "stdout",
          "text": [
            "Object created.\n",
            "Destructor called. Cleaning up...\n"
          ]
        }
      ]
    },
    {
      "cell_type": "markdown",
      "source": [
        "6. What is the difference between import and from ... import in Python?\n",
        "\n",
        "Ans :    \n",
        "\n",
        "a. import:\n",
        "* Purpose: Imports the entire module into the current namespace.\n",
        "* Accessing Elements: To access a function, class, or variable from the module, you must prefix it with the module name.\n",
        "\n",
        "Example:"
      ],
      "metadata": {
        "id": "7LoU7zYDPj98"
      }
    },
    {
      "cell_type": "code",
      "source": [
        "import math\n",
        "\n",
        "# Accessing functions with the module name\n",
        "result = math.sqrt(16)\n",
        "print(result)\n"
      ],
      "metadata": {
        "colab": {
          "base_uri": "https://localhost:8080/"
        },
        "id": "_n5Rn2BQQBjG",
        "outputId": "e318de8f-d9a4-45b0-f1c9-d8f1b5cf1a73"
      },
      "execution_count": null,
      "outputs": [
        {
          "output_type": "stream",
          "name": "stdout",
          "text": [
            "4.0\n"
          ]
        }
      ]
    },
    {
      "cell_type": "markdown",
      "source": [
        "Advantages:\n",
        "\n",
        "* Avoids naming conflicts because you use the module name as a prefix.\n",
        "* Easier to identify the origin of a function or variable.\n",
        "\n",
        "Disadvantage:\n",
        "\n",
        "* May be less convenient for repetitive use because you always need to include the module name.\n",
        "\n",
        "b. from ... import:\n",
        "* Purpose: Imports specific functions, classes, or variables directly into the current namespace.\n",
        "* Accessing Elements: You can directly use the imported names without prefixing them with the module name.\n",
        "\n",
        "Example:"
      ],
      "metadata": {
        "id": "oOMTNjmaQJ9W"
      }
    },
    {
      "cell_type": "code",
      "source": [
        "from math import sqrt\n",
        "\n",
        "# Directly accessing the function without the module name\n",
        "result = sqrt(16)\n",
        "print(result)\n"
      ],
      "metadata": {
        "colab": {
          "base_uri": "https://localhost:8080/"
        },
        "id": "Bc6x9THFQSv_",
        "outputId": "35817bba-db29-4c51-b1bf-6acd526c3718"
      },
      "execution_count": null,
      "outputs": [
        {
          "output_type": "stream",
          "name": "stdout",
          "text": [
            "4.0\n"
          ]
        }
      ]
    },
    {
      "cell_type": "markdown",
      "source": [
        "Advantages:\n",
        "* Makes the code cleaner and shorter when you use specific functions or variables frequently.\n",
        "* Useful when you only need a small part of a module.\n",
        "\n",
        "Disadvantages:\n",
        "* Increased risk of naming conflicts if the imported names clash with existing ones in your program."
      ],
      "metadata": {
        "id": "hYnAA9K8QgRh"
      }
    },
    {
      "cell_type": "markdown",
      "source": [
        "7. How can you handle multiple exceptions in Python?\n",
        "\n",
        "Ans :     \n",
        "\n",
        "In Python, you can handle multiple exceptions using several approaches. This allows you to write clean and efficient code to address various error scenarios.\n",
        "\n",
        "a. Using Multiple except Blocks\n",
        "* You can have multiple except blocks to handle different exception types separately.\n",
        "* This provides specific handling for each exception.\n",
        "\n",
        "Example:"
      ],
      "metadata": {
        "id": "isRqufWNQpW6"
      }
    },
    {
      "cell_type": "code",
      "source": [
        "try:\n",
        "    value = int(input(\"Enter a number: \"))\n",
        "    result = 10 / value\n",
        "except ValueError:\n",
        "    print(\"Invalid input! Please enter a number.\")\n",
        "except ZeroDivisionError:\n",
        "    print(\"You cannot divide by zero.\")\n"
      ],
      "metadata": {
        "colab": {
          "base_uri": "https://localhost:8080/"
        },
        "id": "RraThGVBRLyM",
        "outputId": "52905b9d-be6d-4443-8946-dc7edeb381d0"
      },
      "execution_count": null,
      "outputs": [
        {
          "name": "stdout",
          "output_type": "stream",
          "text": [
            "Enter a number: 10\n"
          ]
        }
      ]
    },
    {
      "cell_type": "markdown",
      "source": [
        "b. Catching Multiple Exceptions in a Single Block\n",
        "* Use a tuple to catch multiple exceptions in a single except block.\n",
        "* The tuple contains all the exception types you want to handle together.\n",
        "\n",
        "Example:"
      ],
      "metadata": {
        "id": "CV6lNfHXRWmt"
      }
    },
    {
      "cell_type": "code",
      "source": [
        "try:\n",
        "    value = int(input(\"Enter a number: \"))\n",
        "    result = 10 / value\n",
        "except (ValueError, ZeroDivisionError) as e:\n",
        "    print(f\"An error occurred: {e}\")\n"
      ],
      "metadata": {
        "colab": {
          "base_uri": "https://localhost:8080/"
        },
        "id": "JUoEnW67RcrX",
        "outputId": "34daf5d6-4bab-4865-eb24-1ef74bb06a76"
      },
      "execution_count": null,
      "outputs": [
        {
          "name": "stdout",
          "output_type": "stream",
          "text": [
            "Enter a number: 2\n"
          ]
        }
      ]
    },
    {
      "cell_type": "markdown",
      "source": [
        "c.  Using a Generic Exception\n",
        "* You can use the base class Exception to catch all exceptions.\n",
        "* Be cautious as this catches all exceptions, including those you might not expect.\n",
        "\n",
        "Example:"
      ],
      "metadata": {
        "id": "xpp0fptARhPG"
      }
    },
    {
      "cell_type": "code",
      "source": [
        "try:\n",
        "    value = int(input(\"Enter a number: \"))\n",
        "    result = 10 / value\n",
        "except Exception as e:\n",
        "    print(f\"An unexpected error occurred: {e}\")\n"
      ],
      "metadata": {
        "colab": {
          "base_uri": "https://localhost:8080/"
        },
        "id": "9WTLT8u_RrMX",
        "outputId": "6d8a4ca8-5617-4bed-a736-40698a8a1370"
      },
      "execution_count": null,
      "outputs": [
        {
          "name": "stdout",
          "output_type": "stream",
          "text": [
            "Enter a number: 5\n"
          ]
        }
      ]
    },
    {
      "cell_type": "markdown",
      "source": [
        "d. Using else and finally with Exceptions\n",
        "* The else block executes if no exceptions are raised.\n",
        "* The finally block executes regardless of whether an exception occurred or not.\n",
        "\n",
        "Example:"
      ],
      "metadata": {
        "id": "l3u-0NdhRozP"
      }
    },
    {
      "cell_type": "code",
      "source": [
        "try:\n",
        "    value = int(input(\"Enter a number: \"))\n",
        "    result = 10 / value\n",
        "except (ValueError, ZeroDivisionError) as e:\n",
        "    print(f\"Error: {e}\")\n",
        "else:\n",
        "    print(f\"Division successful: {result}\")\n",
        "finally:\n",
        "    print(\"Execution completed.\")\n"
      ],
      "metadata": {
        "colab": {
          "base_uri": "https://localhost:8080/"
        },
        "id": "90GhKeAXRz5g",
        "outputId": "13f3ace9-007b-4d9a-e132-617528240082"
      },
      "execution_count": null,
      "outputs": [
        {
          "output_type": "stream",
          "name": "stdout",
          "text": [
            "Enter a number: 5\n",
            "Division successful: 2.0\n",
            "Execution completed.\n"
          ]
        }
      ]
    },
    {
      "cell_type": "markdown",
      "source": [
        "e.  Defining Custom Exception Handling\n",
        "* You can create and handle custom exceptions using your own classes.\n",
        "\n",
        "Example:"
      ],
      "metadata": {
        "id": "9vdUMw8PR4XQ"
      }
    },
    {
      "cell_type": "code",
      "source": [
        "class CustomError(Exception):\n",
        "    pass\n",
        "\n",
        "try:\n",
        "    value = int(input(\"Enter a number greater than 10: \"))\n",
        "    if value <= 10:\n",
        "        raise CustomError(\"The number must be greater than 10.\")\n",
        "except CustomError as e:\n",
        "    print(f\"Custom Error: {e}\")\n",
        "except Exception as e:\n",
        "    print(f\"Other Error: {e}\")\n"
      ],
      "metadata": {
        "colab": {
          "base_uri": "https://localhost:8080/"
        },
        "id": "y4XGSNVwR9t4",
        "outputId": "bf85012e-b879-40b5-ad8e-e46893fd99bc"
      },
      "execution_count": null,
      "outputs": [
        {
          "output_type": "stream",
          "name": "stdout",
          "text": [
            "Enter a number greater than 10: 5\n",
            "Custom Error: The number must be greater than 10.\n"
          ]
        }
      ]
    },
    {
      "cell_type": "markdown",
      "source": [
        "8. What is the purpose of the with statement when handling files in Python?\n",
        "\n",
        "Ans :    \n",
        "\n",
        "The with statement in Python is used to wrap the execution of a block of code, ensuring that certain operations are performed before and after the block, even if an exception occurs. When handling files, it provides a clean and efficient way to manage resources, such as automatically closing the file once the block of code is executed.\n",
        "\n",
        "Purpose of the with Statement:\n",
        "* Automatic Resource Management: Ensures that files or other resources are properly opened and closed, even if errors occur.\n",
        "* Simplifies Code: Reduces the need for explicit try-finally blocks to close files.\n",
        "* Prevents Resource Leaks: Guarantees that files are closed after their use, avoiding potential memory leaks or file locks.\n",
        "\n",
        "How It Works:\n",
        "* The with statement uses context managers, which are objects that define the __enter__ and __exit__ methods.\n",
        "* __enter__: Opens the file.\n",
        "* __exit__: Closes the file (even if an exception occurs).\n",
        "\n",
        "Example:\n",
        "\n",
        "File Handling with with:"
      ],
      "metadata": {
        "id": "2ct6qiweSEIS"
      }
    },
    {
      "cell_type": "code",
      "source": [
        "with open('example.txt', 'w') as file:\n",
        "    file.write(\"Hello, world!\")\n",
        "# No need to explicitly close the file; it's automatically closed here\n"
      ],
      "metadata": {
        "id": "FyA9ElBWSnd8"
      },
      "execution_count": 1,
      "outputs": []
    },
    {
      "cell_type": "markdown",
      "source": [
        "Explanation:\n",
        "* The file example.txt is opened for writing.\n",
        "* Once the block inside the with statement is completed (even if an exception occurs), the file is automatically closed without the need for file.close().\n",
        "* This ensures proper resource cleanup and eliminates the need for manual error handling for file closure.\n",
        "\n",
        "Advantages of Using with:\n",
        "* Automatic Cleanup: The file is automatically closed when the block is exited, regardless of whether an exception occurs or not.\n",
        "* Cleaner Code: You don't need to manually manage resource cleanup, which simplifies the code and makes it more readable.\n",
        "* Avoids Common Errors: Ensures that files are properly closed, avoiding file corruption or locking issues."
      ],
      "metadata": {
        "id": "Wo2Tm9h1S0J2"
      }
    },
    {
      "cell_type": "markdown",
      "source": [
        "9. What is the difference between multithreading and multiprocessing?\n",
        "\n",
        "Ans :    \n",
        "\n",
        "a. Multithreading:\n",
        "\n",
        "Definition: Multithreading is the technique of running multiple threads (smaller units of a process) in the same memory space. Each thread shares the same memory space but operates independently.\n",
        "\n",
        "How It Works:\n",
        "* Multiple threads within the same process share the same memory resources.\n",
        "* Threads are lightweight and have less overhead than processes.\n",
        "* Threads are best suited for tasks that require frequent interaction with shared data or resources, such as I/O-bound tasks (e.g., reading from a file, network requests).\n",
        "\n",
        "Global Interpreter Lock (GIL):\n",
        "* Python's Global Interpreter Lock (GIL) ensures that only one thread can execute Python bytecode at a time in a single process, even though you may have multiple threads.\n",
        "* This makes multithreading less effective for CPU-bound tasks in Python, but it's still useful for I/O-bound tasks (e.g., web scraping, file operations, network communication).\n",
        "\n",
        "Example of Multithreading:"
      ],
      "metadata": {
        "id": "2941410hTAQn"
      }
    },
    {
      "cell_type": "code",
      "source": [
        "import threading\n",
        "\n",
        "def print_numbers():\n",
        "    for i in range(5):\n",
        "        print(i)\n",
        "\n",
        "# Create two threads\n",
        "thread1 = threading.Thread(target=print_numbers)\n",
        "thread2 = threading.Thread(target=print_numbers)\n",
        "\n",
        "# Start both threads\n",
        "thread1.start()\n",
        "thread2.start()\n",
        "\n",
        "# Wait for both threads to finish\n",
        "thread1.join()\n",
        "thread2.join()\n"
      ],
      "metadata": {
        "colab": {
          "base_uri": "https://localhost:8080/"
        },
        "id": "yGOJXtHtXLmR",
        "outputId": "ab0b8a0c-f1f1-42d2-9c83-7fc4c104d449"
      },
      "execution_count": null,
      "outputs": [
        {
          "output_type": "stream",
          "name": "stdout",
          "text": [
            "0\n",
            "1\n",
            "2\n",
            "3\n",
            "4\n",
            "0\n",
            "1\n",
            "2\n",
            "3\n",
            "4\n"
          ]
        }
      ]
    },
    {
      "cell_type": "markdown",
      "source": [
        "b.  Multiprocessing:\n",
        "\n",
        "Definition: Multiprocessing involves running multiple processes, each with its own memory space. Unlike threads, processes are independent of each other, with separate memory areas.\n",
        "\n",
        "How It Works:\n",
        "* Each process has its own Python interpreter and memory space.\n",
        "* Processes are heavier than threads but can fully utilize multiple CPU cores, making them suitable for CPU-bound tasks (e.g., complex calculations, data processing).\n",
        "* There is no GIL in multiprocessing, allowing true parallel execution of Python code across multiple CPU cores.\n",
        "\n",
        "Use Cases: Multiprocessing is ideal for tasks that are CPU-bound, where you need to perform complex computations that would benefit from parallel execution.\n",
        "\n",
        "Example of Multiprocessing:"
      ],
      "metadata": {
        "id": "g8JaM6bjXPNK"
      }
    },
    {
      "cell_type": "code",
      "source": [
        "import multiprocessing\n",
        "\n",
        "def print_numbers():\n",
        "    for i in range(5):\n",
        "        print(i)\n",
        "\n",
        "# Create two processes\n",
        "process1 = multiprocessing.Process(target=print_numbers)\n",
        "process2 = multiprocessing.Process(target=print_numbers)\n",
        "\n",
        "# Start both processes\n",
        "process1.start()\n",
        "process2.start()\n",
        "\n",
        "# Wait for both processes to finish\n",
        "process1.join()\n",
        "process2.join()\n"
      ],
      "metadata": {
        "colab": {
          "base_uri": "https://localhost:8080/"
        },
        "id": "wFCrYiGoXg2q",
        "outputId": "c74f2a23-3a03-4c5c-ee5a-01881da1872d"
      },
      "execution_count": null,
      "outputs": [
        {
          "output_type": "stream",
          "name": "stdout",
          "text": [
            "00\n",
            "\n",
            "1\n",
            "2\n",
            "3\n",
            "4\n",
            "1\n",
            "2\n",
            "3\n",
            "4\n"
          ]
        }
      ]
    },
    {
      "cell_type": "markdown",
      "source": [
        "10. What are the advantages of using logging in a program?\n",
        "\n",
        "Ans :     \n",
        "\n",
        "a Easy Troubleshooting and Debugging:\n",
        "* Logging provides detailed information about the execution flow of the program, including variable values, execution paths, and exceptions. This makes it much easier to troubleshoot and debug issues.\n",
        "* Logs can show the sequence of events leading up to an error, which helps you understand what went wrong.\n",
        "\n",
        "Example:\n",
        "If a program crashes, logs can give you the exact line of code where the error occurred, along with the exception message.\n",
        "\n",
        "b. Persistent Records of Application Behavior:\n",
        "* Logs act as a historical record of an application’s activity. This is valuable for both short-term debugging and long-term monitoring.\n",
        "* Logs can capture important events like user actions, system events, and other activities, which can be helpful for audits, tracking, or post-mortem analysis.\n",
        "\n",
        "c. Control Over Log Levels and Granularity:\n",
        "* Python's logging module allows you to set different logging levels (e.g., DEBUG, INFO, WARNING, ERROR, CRITICAL) based on the severity of the messages. * This helps you control the verbosity of logs and filter out irrelevant information.\n",
        "\n",
        "* For example, in production, you can log only warnings and errors, but in development, you can log detailed debug information.\n",
        "\n",
        "d. Easier Monitoring and Performance Metrics:\n",
        "* Logging helps monitor the performance and behavior of an application in production.\n",
        "* You can track how often certain parts of the code are executed, measure response times, and identify bottlenecks or resource-heavy operations.\n",
        "\n",
        "Example:\n",
        "\n",
        "If you're developing a web application, logging can help you track how many requests are processed, how long they take, and which endpoints are being accessed most often.\n",
        "\n",
        "e. Integration with External Systems:\n",
        "* Logs can be integrated with external logging systems (e.g., Logstash, Splunk, or Elasticsearch) for centralized logging and easier analysis, especially in distributed systems.\n",
        "* They can also be directed to files, databases, or remote servers, making it easier to collect logs across various parts of a system.\n",
        "\n",
        "f. Non-intrusive and Flexible:\n",
        "* Logging can be easily added to existing code without significant changes. You can start by logging critical information and later increase the level of detail as needed.\n",
        "* It is also non-intrusive—unlike print statements, logs provide a more formal and structured way to output information, and they can be turned on or off without modifying the code.\n",
        "\n",
        "g. Better Production Readiness:\n",
        "* In production environments, print statements should generally be avoided because they can clutter the output and be difficult to manage.\n",
        "* Logging provides a more structured, manageable, and flexible way to handle information about the application's behavior.\n",
        "\n",
        "h. Error Tracking and Alerts:\n",
        "* Logs help in tracking errors by capturing stack traces, exception messages, and other contextual information. You can configure alerts to be triggered on certain log entries (e.g., errors or critical issues), which can notify the development or operations team instantly.\n",
        "* This helps ensure rapid responses to critical issues in a live system.\n",
        "\n",
        "i. Debugging in Complex Systems:\n",
        "* In complex systems or distributed applications (e.g., microservices), logs from various components can be collected and analyzed to understand the flow of data and interactions between services. This helps in pinpointing problems in large, interconnected systems.\n",
        "\n",
        "j. Configurability and Customization:\n",
        "* Logging in Python is highly configurable. You can control where the logs go (console, files, remote servers) and what format they are in (e.g., plain text, JSON, or XML).\n",
        "* You can customize the log format to include timestamps, log levels, message content, function names, or any other relevant information."
      ],
      "metadata": {
        "id": "OrNPqpCBXocE"
      }
    },
    {
      "cell_type": "markdown",
      "source": [
        "11. What is memory management in Python?\n",
        "\n",
        "Ans :     \n",
        "\n",
        "Memory management in Python refers to how Python handles the allocation, usage, and deallocation of memory during the execution of a program. Python’s memory management system is designed to be automatic and efficient, minimizing the need for manual intervention by the developer. Here are the key components:\n",
        "\n",
        "* Automatic Memory Allocation: Python automatically allocates memory for objects when they are created (e.g., variables, lists, dictionaries). This memory is allocated from the system’s heap, which is managed by Python.\n",
        "\n",
        "* Reference Counting: Each object in Python has an associated reference count, which tracks the number of references pointing to that object. When the reference count drops to zero (i.e., no references to the object exist), the object’s memory is freed. This is the primary mechanism for memory deallocation.\n",
        "\n",
        "* Garbage Collection: Python’s garbage collector complements reference counting by identifying and collecting objects that are part of circular references (objects referencing each other in a loop). These cycles are not cleaned up by reference counting alone. The garbage collector runs periodically to reclaim memory from such objects.\n",
        "\n",
        "* Memory Pools: Python uses memory pools for efficient allocation of small objects. Objects of similar size are grouped together into pools, which reduces fragmentation and improves performance. This system helps speed up memory allocation and deallocation.\n",
        "\n",
        "* String Interning: Python optimizes memory usage by using a technique called string interning, where identical immutable strings are stored only once in memory. This reduces memory usage and speeds up string comparisons.\n",
        "\n",
        "* Tools for Monitoring: Python provides modules like gc (for garbage collection management) and sys.getsizeof() (to check the memory size of objects) to help monitor and manage memory usage."
      ],
      "metadata": {
        "id": "0GdOPDWvZdyO"
      }
    },
    {
      "cell_type": "markdown",
      "source": [
        "12. What are the basic steps involved in exception handling in Python?\n",
        "\n",
        "Ans :    \n",
        "\n",
        "In Python, exception handling is done using the try, except, else, and finally blocks. The basic steps involved are:\n",
        "\n",
        "a. Try Block:\n",
        "* The code that might raise an exception is placed inside the try block.\n",
        "* If no exception occurs in this block, the code executes normally.\n",
        "* If an exception occurs, Python jumps to the except block.\n",
        "\n"
      ],
      "metadata": {
        "id": "QwH9BXw3aeLb"
      }
    },
    {
      "cell_type": "code",
      "source": [
        "try:\n",
        "    # Code that might raise an exception\n",
        "    x = 10 / 0  # This will raise a ZeroDivisionError\n"
      ],
      "metadata": {
        "colab": {
          "base_uri": "https://localhost:8080/",
          "height": 106
        },
        "id": "dvI0tqkra0Rd",
        "outputId": "24c8eb1c-6886-4457-a241-b4ed6059d265"
      },
      "execution_count": null,
      "outputs": [
        {
          "output_type": "error",
          "ename": "SyntaxError",
          "evalue": "incomplete input (<ipython-input-38-2936a9d09238>, line 3)",
          "traceback": [
            "\u001b[0;36m  File \u001b[0;32m\"<ipython-input-38-2936a9d09238>\"\u001b[0;36m, line \u001b[0;32m3\u001b[0m\n\u001b[0;31m    x = 10 / 0  # This will raise a ZeroDivisionError\u001b[0m\n\u001b[0m                                                     ^\u001b[0m\n\u001b[0;31mSyntaxError\u001b[0m\u001b[0;31m:\u001b[0m incomplete input\n"
          ]
        }
      ]
    },
    {
      "cell_type": "markdown",
      "source": [
        "b. Except Block:\n",
        "* The except block is executed if an exception occurs in the try block.\n",
        "* You can specify the type of exception to catch (e.g., ZeroDivisionError, FileNotFoundError).\n",
        "* You can also handle multiple exceptions or catch all exceptions using a generic except clause.\n"
      ],
      "metadata": {
        "id": "tIidryXEa68_"
      }
    },
    {
      "cell_type": "code",
      "source": [
        "except ZeroDivisionError:\n",
        "    print(\"Cannot divide by zero!\")\n"
      ],
      "metadata": {
        "colab": {
          "base_uri": "https://localhost:8080/",
          "height": 106
        },
        "id": "JMMeib5ObDFQ",
        "outputId": "05b8e7d5-490c-4e92-d1de-da38a4e1d306"
      },
      "execution_count": null,
      "outputs": [
        {
          "output_type": "error",
          "ename": "SyntaxError",
          "evalue": "invalid syntax (<ipython-input-39-6143e106fe1e>, line 1)",
          "traceback": [
            "\u001b[0;36m  File \u001b[0;32m\"<ipython-input-39-6143e106fe1e>\"\u001b[0;36m, line \u001b[0;32m1\u001b[0m\n\u001b[0;31m    except ZeroDivisionError:\u001b[0m\n\u001b[0m    ^\u001b[0m\n\u001b[0;31mSyntaxError\u001b[0m\u001b[0;31m:\u001b[0m invalid syntax\n"
          ]
        }
      ]
    },
    {
      "cell_type": "markdown",
      "source": [
        "c. Else Block (Optional):\n",
        "* The else block is optional and runs if no exceptions are raised in the try block.\n",
        "* It is typically used for code that should run if the try block was successful."
      ],
      "metadata": {
        "id": "CjN5VAXkbKNo"
      }
    },
    {
      "cell_type": "code",
      "source": [
        "else:\n",
        "    print(\"No exception occurred, code executed successfully.\")\n"
      ],
      "metadata": {
        "id": "2r77zEH1bRHh"
      },
      "execution_count": null,
      "outputs": []
    },
    {
      "cell_type": "markdown",
      "source": [
        "d. Finally Block (Optional):\n",
        "* The finally block is also optional. It is executed no matter what, whether an exception occurred or not.\n",
        "* It is typically used for cleanup operations (e.g., closing files or releasing resources)."
      ],
      "metadata": {
        "id": "Ks_3SRBBbTQR"
      }
    },
    {
      "cell_type": "code",
      "source": [
        "finally:\n",
        "    print(\"This will run no matter what.\")\n"
      ],
      "metadata": {
        "id": "hBiNJiGfbZgC"
      },
      "execution_count": null,
      "outputs": []
    },
    {
      "cell_type": "markdown",
      "source": [
        "Full Example:"
      ],
      "metadata": {
        "id": "Yb5v65kdbbYC"
      }
    },
    {
      "cell_type": "code",
      "source": [
        "try:\n",
        "    # Code that might raise an exception\n",
        "    num = int(input(\"Enter a number: \"))\n",
        "    result = 10 / num\n",
        "except ZeroDivisionError:\n",
        "    # Handling division by zero error\n",
        "    print(\"Cannot divide by zero!\")\n",
        "except ValueError:\n",
        "    # Handling invalid input\n",
        "    print(\"Invalid input! Please enter a valid number.\")\n",
        "else:\n",
        "    # Code to run if no exceptions occurred\n",
        "    print(f\"Result is: {result}\")\n",
        "finally:\n",
        "    # Code that will always run (e.g., cleanup)\n",
        "    print(\"Execution completed.\")\n"
      ],
      "metadata": {
        "colab": {
          "base_uri": "https://localhost:8080/"
        },
        "id": "mFllxuY8bfdC",
        "outputId": "956ea168-f0f9-4b82-9a44-9f709b91e8e7"
      },
      "execution_count": null,
      "outputs": [
        {
          "output_type": "stream",
          "name": "stdout",
          "text": [
            "Enter a number: 5\n",
            "Result is: 2.0\n",
            "Execution completed.\n"
          ]
        }
      ]
    },
    {
      "cell_type": "markdown",
      "source": [
        "13. Why is memory management important in Python?\n",
        "\n",
        "Ans :    \n",
        "\n",
        "Memory management is an essential aspect of programming that directly impacts the performance, efficiency, and stability of applications. In Python, memory management is crucial for several reasons:\n",
        "\n",
        "a. Efficient Use of System Resources:\n",
        "* Python programs typically involve dynamic memory allocation, where memory is allocated at runtime based on the program's needs. Proper memory management ensures that memory is efficiently used, avoiding unnecessary consumption of system resources, especially in large or long-running applications.\n",
        "* Memory leaks, where memory is not released after use, can occur if the program does not free up memory properly, leading to degraded performance or crashes.\n",
        "\n",
        "b. Improved Program Performance:\n",
        "* Python's garbage collection and reference counting mechanisms ensure that memory is automatically reclaimed when no longer needed, thus avoiding memory overuse.\n",
        "* Efficient memory management helps in reducing memory fragmentation, allowing the system to allocate and deallocate memory more effectively. This can improve the overall performance of the application.\n",
        "\n",
        "c. Avoiding Memory Leaks:\n",
        "* Memory leaks happen when memory is allocated but not properly released. This issue can lead to performance degradation or even system crashes if the program keeps consuming memory without freeing it.\n",
        "* Python's garbage collector helps to automatically detect and handle such leaks, but developers must be mindful of circular references and other situations that might cause memory to be retained unnecessarily.\n",
        "\n",
        "d. Handling Large Datasets and Memory-Intensive Tasks:\n",
        "* Python is widely used in fields such as data science, machine learning, and web development, where managing large datasets is common. Effective memory management allows Python to handle these large data structures without consuming excessive resources or crashing.\n",
        "* With tools like memory pools and optimized data structures (e.g., NumPy arrays, pandas DataFrames), memory management becomes even more crucial when dealing with large volumes of data.\n",
        "\n",
        "e. Optimization for Scalability:\n",
        "* As applications scale, whether they handle more users, more data, or more complex computations, memory management becomes critical to maintaining system responsiveness and stability.\n",
        "* Efficient memory use is vital for creating applications that can scale across multiple machines or handle growing amounts of data and user requests without exhausting memory.\n",
        "\n",
        "f. Automatic Memory Management:\n",
        "* Python provides automatic memory management, including garbage collection and reference counting, which reduces the burden on developers to manually allocate and release memory. This allows developers to focus on writing code rather than managing memory manually.\n",
        "* However, understanding how Python handles memory (e.g., memory pools for small objects, object interning for strings, etc.) can help developers write more efficient code and avoid pitfalls that could affect performance.\n",
        "\n",
        "g. Reducing Development Time and Errors:\n",
        "* Since Python automates much of memory management, developers spend less time on low-level memory issues and focus more on solving the problem at hand.\n",
        "* Proper memory management reduces the chances of bugs related to memory allocation, such as accessing invalid memory or running out of memory.\n",
        "\n",
        "h. Cross-Platform Portability:\n",
        "* Python is a cross-platform language, meaning it runs on different operating systems. Efficient memory management ensures that Python applications can be deployed on various platforms without running into platform-specific memory issues."
      ],
      "metadata": {
        "id": "lxxbX94rbxjc"
      }
    },
    {
      "cell_type": "markdown",
      "source": [
        "14. What is the role of try and except in exception handling?\n",
        "\n",
        "Ans :    \n",
        "\n",
        "In Python, the try and except blocks are fundamental components of exception handling. They work together to manage errors (exceptions) that may occur during the execution of a program. Here's the role of each:\n",
        "\n",
        "a. try Block:\n",
        "* The try block contains the code that may raise an exception during execution.\n",
        "* When the Python interpreter encounters an error in the try block, it immediately stops executing the code inside it and jumps to the appropriate except block to handle the error.\n",
        "* If no exception occurs, the code inside the try block executes normally, and the program continues as usual.\n",
        "\n",
        "Role of try:\n",
        "* Detect potential errors: The try block is used to wrap the code that could possibly raise an exception, allowing the program to handle errors instead of crashing.\n",
        "* Isolate risky code: The try block isolates the risky or error-prone code from the rest of the program.\n",
        "\n",
        "Example:"
      ],
      "metadata": {
        "id": "KzQXQnksdO5U"
      }
    },
    {
      "cell_type": "code",
      "source": [
        "try:\n",
        "    num = int(input(\"Enter a number: \"))\n",
        "    result = 10 / num  # Division might raise ZeroDivisionError or ValueError\n"
      ],
      "metadata": {
        "id": "Oi2d0_hydyTw"
      },
      "execution_count": null,
      "outputs": []
    },
    {
      "cell_type": "markdown",
      "source": [
        "b. except Block:\n",
        "* The except block follows the try block and is executed only if an exception occurs in the try block.\n",
        "* You can specify the type of exception to catch (e.g., ZeroDivisionError, ValueError) or use a generic except to catch all exceptions.\n",
        "* The except block allows the program to recover from the error gracefully by providing a response (like printing a message or performing corrective actions), rather than terminating the program.\n",
        "\n",
        "Role of except:\n",
        "* Handle errors: The except block allows the program to handle specific exceptions, preventing the program from crashing.\n",
        "* Provide error messages or alternative logic: It helps in giving feedback to the user or taking alternative actions when an exception occurs.\n",
        "\n",
        "Example:"
      ],
      "metadata": {
        "id": "1bLmEPIEdzy3"
      }
    },
    {
      "cell_type": "code",
      "source": [
        "except ZeroDivisionError:\n",
        "    print(\"Cannot divide by zero!\")\n",
        "except ValueError:\n",
        "    print(\"Invalid input! Please enter a valid number.\")\n"
      ],
      "metadata": {
        "id": "U4Yi1-VseBNJ"
      },
      "execution_count": null,
      "outputs": []
    },
    {
      "cell_type": "markdown",
      "source": [
        "Full Example :"
      ],
      "metadata": {
        "id": "UsBq2NkJeEAh"
      }
    },
    {
      "cell_type": "code",
      "source": [
        "try:\n",
        "    num = int(input(\"Enter a number: \"))\n",
        "    result = 10 / num\n",
        "except ZeroDivisionError:\n",
        "    print(\"Error: Cannot divide by zero!\")\n",
        "except ValueError:\n",
        "    print(\"Error: Invalid input, please enter a valid number.\")\n",
        "else:\n",
        "    print(f\"Result is: {result}\")\n",
        "finally:\n",
        "    print(\"Execution completed.\")\n"
      ],
      "metadata": {
        "colab": {
          "base_uri": "https://localhost:8080/"
        },
        "id": "CWw1FU2ieIlZ",
        "outputId": "75e6fd82-5f98-4644-9aea-49abbff27270"
      },
      "execution_count": null,
      "outputs": [
        {
          "output_type": "stream",
          "name": "stdout",
          "text": [
            "Enter a number: 5\n",
            "Result is: 2.0\n",
            "Execution completed.\n"
          ]
        }
      ]
    },
    {
      "cell_type": "markdown",
      "source": [
        "15. How does Python's garbage collection system work?\n",
        "\n",
        "Ans :    \n",
        "\n",
        "Python’s garbage collection system is responsible for automatically managing memory, reclaiming memory from objects that are no longer in use. This system helps prevent memory leaks and ensures that memory is efficiently used. Python primarily uses reference counting and garbage collection to manage memory.\n",
        "\n",
        "a. Reference Counting:\n",
        "* Reference counting is the primary technique Python uses for memory management. Each object in Python has a reference count, which tracks how many references are pointing to it.\n",
        "* When an object is created, its reference count starts at 1. Every time another variable or object points to the same object, the reference count is incremented. When a reference is deleted, the count is decremented.\n",
        "* When the reference count of an object reaches zero, meaning there are no references left, Python automatically deallocates the memory used by that object.\n",
        "\n",
        "Example:"
      ],
      "metadata": {
        "id": "df49FMdweYH7"
      }
    },
    {
      "cell_type": "code",
      "source": [
        "a = [1, 2, 3]  # Reference count of the list is 1\n",
        "b = a           # Reference count of the list is now 2\n",
        "del a           # Reference count of the list is now 1\n",
        "del b           # Reference count of the list is now 0, so it is deallocated\n"
      ],
      "metadata": {
        "id": "YXNCDY4CfBxf"
      },
      "execution_count": null,
      "outputs": []
    },
    {
      "cell_type": "markdown",
      "source": [
        "b. Garbage Collection for Cyclic References:\n",
        "* Cyclic references occur when two or more objects reference each other, forming a cycle. In such cases, even though these objects are no longer used, their reference counts will never drop to zero, which could lead to memory leaks.\n",
        "* Python uses a garbage collector to handle such situations. The garbage collector detects reference cycles and breaks them, allowing the memory to be freed.\n",
        "\n",
        "c. Generational Garbage Collection:\n",
        "* Python’s garbage collection system is generational. Objects are grouped into three generations based on how long they have been alive:\n",
        "\n",
        "i. Generation 0: New objects are created here. Most objects are short-lived and are collected quickly.\n",
        "\n",
        "ii. Generation 1: Objects that have survived at least one garbage collection cycle.\n",
        "\n",
        "iii. Generation 2: Objects that have survived multiple garbage collection cycles. These objects are collected less frequently.\n",
        "* The GC focuses on collecting objects in generation 0, where most objects are short-lived. Objects that survive longer are moved to generation 1 and generation 2 and are collected less often, improving the efficiency of garbage collection.\n",
        "\n",
        "d. Automatic Garbage Collection:\n",
        "* Python’s garbage collection is automatic, meaning it runs in the background and reclaims memory without requiring explicit intervention from the developer.\n",
        "* However, you can manually control garbage collection using the gc module:\n",
        "\n",
        "i. Disable garbage collection: gc.disable()\n",
        "\n",
        "ii. Trigger manual garbage collection: gc.collect()\n",
        "\n",
        "iii. Inspect tracked objects: gc.get_objects()\n",
        "\n",
        "Python's automatic garbage collection ensures that memory is freed when objects are no longer reachable, preventing memory leaks and optimizing memory use.\n",
        "\n",
        "5. Finalization with __del__ Method:\n",
        "* Python provides the __del__() method that can be defined in a class to handle cleanup before an object is destroyed (e.g., closing files or releasing resources).\n",
        "* The __del__ method is called when an object is about to be deallocated, but its timing can be affected by circular references. If the object is part of a reference cycle, the garbage collector handles the cleanup."
      ],
      "metadata": {
        "id": "HDgMzFB0fFpP"
      }
    },
    {
      "cell_type": "markdown",
      "source": [
        "16. What is the purpose of the else block in exception handling?\n",
        "\n",
        "Ans :    \n",
        "\n",
        "The else block in Python exception handling is an optional part of the try-except structure. It is used to define code that should execute only if no exception is raised in the try block. If an exception occurs in the try block, the control jumps to the except block, and the else block is skipped.\n",
        "\n",
        "Purpose of the else Block:\n",
        "* Code Execution Without Errors: The else block contains code that should run only when the code in the try block does not raise an exception. It allows you to write the \"normal\" code that should execute if no error occurs.\n",
        "\n",
        "* Separation of Concerns: By placing error-handling code in the except block and normal code in the else block, it separates the handling of exceptions from the normal flow of execution. This improves the readability and structure of the code.\n",
        "\n",
        "* Optimizing the Flow: The else block provides a cleaner way to execute code when everything goes well, without mixing it with error-handling logic.\n",
        "\n",
        "Example:\n"
      ],
      "metadata": {
        "id": "WQK_7gJxgDwm"
      }
    },
    {
      "cell_type": "code",
      "source": [
        "try:\n",
        "    num = int(input(\"Enter a number: \"))\n",
        "    result = 10 / num\n",
        "except ZeroDivisionError:\n",
        "    print(\"Cannot divide by zero!\")\n",
        "except ValueError:\n",
        "    print(\"Invalid input! Please enter a valid number.\")\n",
        "else:\n",
        "    print(f\"Result is: {result}\")\n"
      ],
      "metadata": {
        "colab": {
          "base_uri": "https://localhost:8080/"
        },
        "id": "sK4Ji5gZgbjP",
        "outputId": "1bcba4ae-c6eb-4ad9-918a-dd98a4fcb66c"
      },
      "execution_count": null,
      "outputs": [
        {
          "output_type": "stream",
          "name": "stdout",
          "text": [
            "Enter a number: 10\n",
            "Result is: 1.0\n"
          ]
        }
      ]
    },
    {
      "cell_type": "markdown",
      "source": [
        "17. What are the common logging levels in Python?\n",
        "\n",
        "Ans :    \n",
        "\n",
        "In Python, the logging module provides a way to log messages with different levels of severity. These logging levels help categorize the importance or severity of messages that are logged, making it easier to filter and manage logs. Here are the common logging levels in Python:\n",
        "\n",
        "a. DEBUG:\n",
        "* Description: This is the lowest logging level, used for detailed diagnostic output. It is typically used to provide information useful for debugging the application.\n",
        "* Use case: When you need detailed information about the application's flow or variables, such as during development or troubleshooting.\n",
        "* Numeric value: 10\n",
        "\n",
        "Example:"
      ],
      "metadata": {
        "id": "w8MNx4lQgltf"
      }
    },
    {
      "cell_type": "code",
      "source": [
        "logging.debug(\"This is a debug message\")\n"
      ],
      "metadata": {
        "id": "c4T54WLfpNqE"
      },
      "execution_count": null,
      "outputs": []
    },
    {
      "cell_type": "markdown",
      "source": [
        "b. INFO:\n",
        "* Description: Used to log general information about the program's execution, such as milestones or routine operations. It's often used to record normal, expected events.\n",
        "* Use case: When you want to track the general flow of the application or confirm that everything is running as expected.\n",
        "* Numeric value: 20\n",
        "\n",
        "Example:\n"
      ],
      "metadata": {
        "id": "_qnnuzV9pOOy"
      }
    },
    {
      "cell_type": "code",
      "source": [
        "logging.info(\"Application started successfully\")\n"
      ],
      "metadata": {
        "id": "hdaG0wFtpU0k"
      },
      "execution_count": null,
      "outputs": []
    },
    {
      "cell_type": "markdown",
      "source": [
        "c. WARNING:\n",
        "* Description: Used to log events that are not errors but might indicate a potential problem or unusual situation. Warnings suggest that something might not be right, but the program can still run.\n",
        "* Use case: When you want to capture events that are unexpected but not critical, such as when a function or file is deprecated.\n",
        "* Numeric value: 30\n",
        "\n",
        "Example :    "
      ],
      "metadata": {
        "id": "Vwh58KsfpWcb"
      }
    },
    {
      "cell_type": "code",
      "source": [
        "logging.warning(\"This is a warning message\")\n"
      ],
      "metadata": {
        "id": "l2QSJcnUpgvV"
      },
      "execution_count": null,
      "outputs": []
    },
    {
      "cell_type": "markdown",
      "source": [
        "d. ERROR:\n",
        "* Description: Indicates a serious problem or failure that prevents the application from performing a specific function. These are typically exceptions or unexpected situations that require attention.\n",
        "* Use case: When an operation cannot be completed due to an error, such as a failed database connection or invalid user input.\n",
        "* Numeric value: 40\n",
        "\n",
        "Example :    "
      ],
      "metadata": {
        "id": "9Kwd49rOplFT"
      }
    },
    {
      "cell_type": "code",
      "source": [
        "logging.error(\"An error occurred while connecting to the database\")\n"
      ],
      "metadata": {
        "id": "h3F4sSmlpxo0"
      },
      "execution_count": null,
      "outputs": []
    },
    {
      "cell_type": "markdown",
      "source": [
        "e. CRITICAL:\n",
        "* Description: The highest level of severity, used for very serious errors or failures that require immediate attention. These are typically catastrophic failures that might cause the program to terminate.\n",
        "* Use case: When the program cannot continue due to a critical issue, such as a hardware failure or data corruption.\n",
        "* Numeric value: 50\n",
        "\n",
        "Example:"
      ],
      "metadata": {
        "id": "xgCSr_XepyR0"
      }
    },
    {
      "cell_type": "code",
      "source": [
        "logging.critical(\"Critical error! System is shutting down!\")\n"
      ],
      "metadata": {
        "id": "wGcH-tOVp652"
      },
      "execution_count": null,
      "outputs": []
    },
    {
      "cell_type": "markdown",
      "source": [
        "18.  What is the difference between os.fork() and multiprocessing in Python?\n",
        "\n",
        "Ans :    \n",
        "\n",
        "a. os.fork():\n",
        "* Purpose: os.fork() is a low-level function used to create a child process by duplicating the current process. It is part of Python’s os module and directly interacts with the operating system’s process management.\n",
        "* How it works: When you call os.fork(), the current process is split into two:\n",
        "\n",
        "i. The parent process receives the process ID (PID) of the child process.\n",
        "\n",
        "ii.The child process gets a return value of 0.\n",
        "* Platform Support: It is available only on Unix-like systems (Linux, macOS, etc.). os.fork() does not work on Windows.\n",
        "* Usage: Typically used in Unix-based systems where low-level process control is needed. It is more of a system-level call than a Python-specific abstraction.\n",
        "* Concurrency Model: The parent and child processes have separate memory spaces, and they do not share data unless explicitly done using inter-process communication (IPC) mechanisms.\n",
        "\n",
        "Example of os.fork():"
      ],
      "metadata": {
        "id": "1KLNPj5tp85N"
      }
    },
    {
      "cell_type": "code",
      "source": [
        "import os\n",
        "\n",
        "pid = os.fork()\n",
        "if pid > 0:\n",
        "    print(\"This is the parent process with PID:\", os.getpid())\n",
        "elif pid == 0:\n",
        "    print(\"This is the child process with PID:\", os.getpid())\n"
      ],
      "metadata": {
        "colab": {
          "base_uri": "https://localhost:8080/"
        },
        "id": "MXb7aTjequhZ",
        "outputId": "5bcfa27d-bdaa-4c31-c59b-06b319b86b8d"
      },
      "execution_count": null,
      "outputs": [
        {
          "output_type": "stream",
          "name": "stdout",
          "text": [
            "This is the parent process with PID: 848\n",
            "This is the child process with PID: 38803\n"
          ]
        }
      ]
    },
    {
      "cell_type": "markdown",
      "source": [
        "b. multiprocessing Module:\n",
        "* Purpose: The multiprocessing module is a higher-level Python module that provides a more user-friendly way to work with multiple processes. It abstracts the complexities of low-level process management and provides tools for parallelism, data sharing, and inter-process communication.\n",
        "* How it works: The multiprocessing module creates new processes in a more Pythonic way by using the Process class. It can also handle data sharing between processes through Queue, Pipe, and Value types.\n",
        "* Platform Support: multiprocessing works across all platforms, including Unix-like systems (Linux, macOS) and Windows. It provides a cross-platform way to spawn and manage processes.\n",
        "* Usage: It is the preferred method for creating parallel applications in Python, as it provides a higher-level, easier-to-use API for concurrent programming.\n",
        "* Concurrency Model: multiprocessing allows processes to run in parallel with separate memory spaces. It provides synchronization primitives like Locks, Semaphores, and Events for managing shared resources.\n",
        "\n",
        "Example of multiprocessing:"
      ],
      "metadata": {
        "id": "RtCNAZryqz8L"
      }
    },
    {
      "cell_type": "code",
      "source": [
        "from multiprocessing import Process\n",
        "\n",
        "def worker():\n",
        "    print(\"This is a worker process\")\n",
        "\n",
        "if __name__ == '__main__':\n",
        "    process = Process(target=worker)\n",
        "    process.start()\n",
        "    process.join()\n"
      ],
      "metadata": {
        "id": "aYXqFrJkq-ob"
      },
      "execution_count": null,
      "outputs": []
    },
    {
      "cell_type": "markdown",
      "source": [
        "19. What is the importance of closing a file in Python?\n",
        "\n",
        "Ans :     \n",
        "\n",
        "Closing a file in Python is important for several reasons related to resource management, data integrity, and system performance. Here’s a detailed explanation of why closing a file is necessary:\n",
        "\n",
        "a. Releasing System Resources:\n",
        "* When you open a file, the operating system allocates certain resources to handle the file operation, such as memory, file handles, and buffers. If a file is not closed properly, these resources are not released, potentially leading to resource leakage and system instability, especially if your program opens many files.\n",
        "* By closing the file, Python frees up the resources, making them available for other processes or programs.\n",
        "\n",
        "b. Ensuring Data is Written:\n",
        "* When writing to a file, Python typically uses buffering to optimize I/O operations. This means data is stored in memory temporarily before being written to the file. If you don’t close the file, some data may not be written to the file, as the buffer may not be flushed.\n",
        "* file.close() ensures that all the data in the buffer is written to the disk, preserving the integrity of the file.\n",
        "\n",
        "c. Preventing File Corruption:\n",
        "* In some cases, if a file is not closed properly, especially after writing data, it can result in file corruption. This happens because the final changes might not be saved to the file, leaving the file in an inconsistent state.\n",
        "\n",
        "d. Avoiding File Locking Issues:\n",
        "* On some operating systems, files can be locked when they are opened, meaning other processes may not be able to access the file while it's open. Closing the file releases the lock, allowing other programs or processes to access it.\n",
        "\n",
        "e. Good Practice and Code Readability:\n",
        "* Closing files after use is considered good practice and improves code readability. It helps ensure that files are properly managed and avoids potential bugs or issues related to open file handles.\n",
        "\n",
        "Using with Statement for Automatic Closing:\n",
        "* Instead of explicitly calling file.close(), Python provides the with statement for file handling, which ensures that the file is automatically closed when the block of code is exited, even if an exception occurs. This makes file handling safer and cleaner.\n",
        "\n",
        "Example with with statement:"
      ],
      "metadata": {
        "id": "COHkX2d0rEyM"
      }
    },
    {
      "cell_type": "code",
      "source": [
        "with open('example.txt', 'w') as file:\n",
        "    file.write(\"Hello, World!\")\n",
        "# The file is automatically closed when the block is exited\n"
      ],
      "metadata": {
        "id": "rzeMyINer7Px"
      },
      "execution_count": null,
      "outputs": []
    },
    {
      "cell_type": "markdown",
      "source": [
        "Example Without Closing:"
      ],
      "metadata": {
        "id": "9t_qHn-xsEra"
      }
    },
    {
      "cell_type": "code",
      "source": [
        "file = open('example.txt', 'w')\n",
        "file.write(\"Hello, World!\")\n",
        "# Missing file.close() may result in data loss or resource leakage\n"
      ],
      "metadata": {
        "id": "qPyg6vaVsFoy"
      },
      "execution_count": null,
      "outputs": []
    },
    {
      "cell_type": "markdown",
      "source": [
        "20. What is the difference between file.read() and file.readline() in Python?\n",
        "\n",
        "Ans :    \n",
        "\n",
        "a. file.read():\n",
        "* Purpose: Reads the entire content of the file or a specified number of characters at once.\n",
        "* How it works:\n",
        "\n",
        "i. If called without an argument, it reads the entire file into a single string.\n",
        "\n",
        "ii. If called with an argument (n), it reads up to n characters or bytes from the file.\n",
        "* Use Case: Suitable for reading the whole file or large chunks of data when the content size is manageable in memory.\n",
        "* Return Type: A string containing the data read from the file.\n",
        "* Behavior: The file pointer advances by the number of characters or bytes read.\n",
        "\n",
        "Example:"
      ],
      "metadata": {
        "id": "bVXEiKAwv0PI"
      }
    },
    {
      "cell_type": "code",
      "source": [
        "with open('example.txt', 'r') as file:\n",
        "    content = file.read()  # Reads the entire file\n",
        "    print(content)\n"
      ],
      "metadata": {
        "id": "60fiCSbYwSwq"
      },
      "execution_count": null,
      "outputs": []
    },
    {
      "cell_type": "markdown",
      "source": [],
      "metadata": {
        "id": "p0qFtnCGwVSC"
      }
    },
    {
      "cell_type": "markdown",
      "source": [
        "b. file.readline():\n",
        "* Purpose: Reads a single line from the file at a time.\n",
        "* How it works:\n",
        "\n",
        "i. Each call reads one line, including the newline character (\\n) at the end of the line, unless the line is the last one in the file.\n",
        "ii. If called when the file pointer is at the end of the file, it returns an empty string (\"\").\n",
        "* Use Case: Suitable for reading files line-by-line, especially when working with large files that cannot be loaded entirely into memory.\n",
        "* Return Type: A string containing the line read from the file.\n",
        "* Behavior: The file pointer advances to the beginning of the next line after reading.\n",
        "\n",
        "Example:"
      ],
      "metadata": {
        "id": "3ObY-4AMwdtz"
      }
    },
    {
      "cell_type": "code",
      "source": [
        "with open('example.txt', 'r') as file:\n",
        "    line = file.readline()  # Reads the first line\n",
        "    print(line)\n"
      ],
      "metadata": {
        "id": "PFflxjRrwv4M"
      },
      "execution_count": null,
      "outputs": []
    },
    {
      "cell_type": "markdown",
      "source": [
        "21. What is the logging module in Python used for?\n",
        "\n",
        "Ans :    \n",
        "\n",
        "The logging module in Python is a built-in library used for tracking events, debugging, and monitoring the execution of a program. It provides a flexible framework for recording log messages from your Python programs, which can be helpful for diagnosing problems and understanding application behavior.\n",
        "\n",
        "Purpose of the Logging Module:\n",
        "* Record Information: It helps record events (e.g., errors, warnings, and general information) during the execution of a program.\n",
        "* Debugging: Logs can capture detailed debugging information to help identify and fix issues in code.\n",
        "* Monitor Application Behavior: It enables developers to monitor the flow and state of an application without needing to interrupt or halt it.\n",
        "* Error Reporting: Logging is useful for recording error messages and stack traces in a persistent and structured way.\n",
        "* Separation of Concerns: The module helps separate logging concerns from normal application logic, making the code cleaner and easier to maintain.\n",
        "\n",
        "Key Features:\n",
        "\n",
        "a. Log Levels: The logging module supports multiple severity levels to categorize log messages:\n",
        "* DEBUG: Detailed information for diagnosing problems.\n",
        "* INFO: General information about program execution.\n",
        "* WARNING: Indication of a potential issue or unexpected event.\n",
        "* ERROR: A serious error that prevents part of the program from functioning.\n",
        "* CRITICAL: A critical error, often indicating a program crash or serious failure.\n",
        "\n",
        "b. Output Flexibility:\n",
        "* Logs can be directed to various outputs such as the console, files, or external systems (e.g., syslog, databases).\n",
        "* You can specify the format of log messages.\n",
        "\n",
        "c. Configurable Behavior:\n",
        "* Developers can configure log levels, output formats, and destinations for logs using functions or configuration files.\n",
        "\n",
        "d. Hierarchical Loggers:\n",
        "* Logging allows the creation of hierarchical loggers to organize logs by components or modules in a structured way.\n",
        "\n",
        "Example Usage:"
      ],
      "metadata": {
        "id": "4v0tcNWSwy0t"
      }
    },
    {
      "cell_type": "code",
      "source": [
        "import logging\n",
        "\n",
        "# Configure logging\n",
        "logging.basicConfig(level=logging.INFO, format='%(asctime)s - %(levelname)s - %(message)s')\n",
        "\n",
        "# Log messages\n",
        "logging.debug(\"This is a debug message\")    # Will not appear because the level is set to INFO\n",
        "logging.info(\"Application started\")\n",
        "logging.warning(\"This is a warning\")\n",
        "logging.error(\"An error occurred\")\n",
        "logging.critical(\"Critical issue encountered!\")\n"
      ],
      "metadata": {
        "id": "PkBTKiqPyco-"
      },
      "execution_count": null,
      "outputs": []
    },
    {
      "cell_type": "markdown",
      "source": [
        "22. What is the os module in Python used for in file handling?\n",
        "\n",
        "Ans :     \n",
        "\n",
        "The os module in Python is used for interacting with the operating system and provides functionalities for file and directory handling. It is particularly useful for performing tasks like creating, deleting, renaming, and navigating files and directories programmatically. Below are its key uses in file handling:\n",
        "\n",
        "Key Uses of os Module in File Handling:\n",
        "\n",
        "a. Managing Directories:\n",
        "* Change the Current Working Directory:\n",
        "\n",
        "os.chdir(path) changes the working directory to the specified path.\n",
        "* Get Current Working Directory:\n",
        "\n",
        "os.getcwd() returns the current working directory.\n",
        "* Create Directories:\n",
        "\n",
        "i. os.mkdir(path) creates a single directory.\n",
        "\n",
        "ii. os.makedirs(path) creates nested directories.\n",
        "* Remove Directories:\n",
        "\n",
        "i. os.rmdir(path) removes an empty directory.\n",
        "ii. os.removedirs(path) removes nested directories if they are empty.\n",
        "\n",
        "b. Managing Files:\n",
        "* Rename Files:\n",
        "\n",
        "os.rename(src, dst) renames a file or directory from src to dst.\n",
        "* Delete Files:\n",
        "\n",
        "os.remove(path) deletes the specified file.\n",
        "* Check File Existence:\n",
        "\n",
        "os.path.exists(path) checks if a file or directory exists.\n",
        "* Get File Size:\n",
        "\n",
        "os.path.getsize(path) returns the size of the file in bytes.\n",
        "\n",
        "c. Navigating and Listing Directories:\n",
        "* List Directory Contents:\n",
        "\n",
        "os.listdir(path) returns a list of all files and directories in the specified directory.\n",
        "* Traverse Directory Tree:\n",
        "\n",
        "os.walk(path) generates file and directory names in a directory tree, making it easy to iterate through them.\n",
        "\n",
        "Example Code:"
      ],
      "metadata": {
        "id": "O6Y_QPQTyiFv"
      }
    },
    {
      "cell_type": "code",
      "source": [
        "import os\n",
        "\n",
        "# Get the current working directory\n",
        "print(\"Current Directory:\", os.getcwd())\n",
        "\n",
        "# Create a new directory\n",
        "os.mkdir(\"example_dir\")\n",
        "print(\"Directory 'example_dir' created!\")\n",
        "\n",
        "# Rename the directory\n",
        "os.rename(\"example_dir\", \"renamed_dir\")\n",
        "print(\"Directory renamed to 'renamed_dir'\")\n",
        "\n",
        "# List contents of the current directory\n",
        "print(\"Contents of Directory:\", os.listdir())\n",
        "\n",
        "# Remove the directory\n",
        "os.rmdir(\"renamed_dir\")\n",
        "print(\"Directory 'renamed_dir' removed!\")\n"
      ],
      "metadata": {
        "id": "MUlGvc-Zz82_"
      },
      "execution_count": null,
      "outputs": []
    },
    {
      "cell_type": "markdown",
      "source": [
        "23.  What are the challenges associated with memory management in Python?\n",
        "\n",
        "Ans :    \n",
        "\n",
        "Memory management in Python is designed to be automatic and efficient, thanks to its built-in garbage collection and dynamic memory allocation. However, certain challenges can arise, especially when writing complex or performance-critical applications. Below are some key challenges associated with memory management in Python:\n",
        "\n",
        "a. Memory Leaks\n",
        "* Cause: Memory leaks occur when objects that are no longer needed are not deallocated because references to them still exist.\n",
        "* Example: Circular references (e.g., objects referencing each other) can sometimes prevent the garbage collector from reclaiming memory.\n",
        "* Challenge: Detecting and resolving memory leaks in large programs can be difficult.\n",
        "\n",
        "Solution: Use tools like gc (garbage collection module) or external memory profilers to detect and resolve leaks.\n",
        "\n",
        "b. High Memory Consumption\n",
        "* Cause: Python’s dynamic typing and object-oriented nature can lead to higher memory usage compared to languages like C or Java.\n",
        "* Example: Every Python object has additional overhead (like reference counts and type information), which increases memory usage.\n",
        "* Challenge: Reducing memory consumption in memory-constrained environments.\n",
        "\n",
        "Solution: Use efficient data structures like array or numpy for large datasets instead of lists and dictionaries.\n",
        "\n",
        "c. Garbage Collection Overhead\n",
        "* Cause: Python's garbage collector periodically scans objects to detect and reclaim unused memory. This can introduce performance overhead.\n",
        "* Challenge: In real-time applications or programs with strict performance requirements, garbage collection can cause latency or slowdowns.\n",
        "\n",
        "Solution: Manually manage garbage collection using the gc module, such as disabling automatic collection and invoking it at specific times.\n",
        "\n",
        "d. Circular References\n",
        "* Cause: When two or more objects reference each other, they form a cycle that may not be immediately collected by the garbage collector.\n",
        "* Challenge: Such references can retain memory unnecessarily, leading to higher memory usage.\n",
        "\n",
        "Solution: Use weak references (weakref module) to break circular references when needed.\n",
        "\n",
        "e. Fragmentation\n",
        "* Cause: Over time, memory may become fragmented due to the allocation and deallocation of objects of varying sizes.\n",
        "* Challenge: Fragmentation can reduce available contiguous memory, impacting the performance of memory-intensive applications.\n",
        "\n",
        "Solution: Reduce memory fragmentation by reusing objects and using memory-efficient libraries.\n",
        "\n",
        "f. Managing Large Data Structures\n",
        "* Cause: Handling large datasets (e.g., big arrays, lists, or dictionaries) can consume significant memory.\n",
        "* Challenge: Efficiently storing and processing such data without exhausting system memory.\n",
        "\n",
        "Solution: Use specialized libraries like numpy or pandas for memory-optimized data handling.\n",
        "\n",
        "g. Multithreading and Memory\n",
        "* Cause: Python’s Global Interpreter Lock (GIL) restricts multi-threaded programs, leading to limited performance benefits for memory-intensive tasks.\n",
        "* Challenge: Managing memory effectively in multi-threaded or multi-process environments.\n",
        "\n",
        "Solution: Use multiprocessing for parallel tasks and design programs to minimize shared memory usage.\n",
        "\n",
        "h. Lack of Control Over Memory Allocation\n",
        "* Cause: Python abstracts away manual memory management, leaving developers with limited control over how and when memory is allocated or released.\n",
        "* Challenge: In situations where fine-grained memory control is required, Python can be less suitable.\n",
        "\n",
        "Solution: Consider using libraries like ctypes or writing performance-critical sections in C/C++."
      ],
      "metadata": {
        "id": "PQ4r6i2f0B_Q"
      }
    },
    {
      "cell_type": "markdown",
      "source": [
        "24. How do you raise an exception manually in Python?\n",
        "\n",
        "Ans :    \n",
        "\n",
        "In Python, you can manually raise an exception using the raise statement. This is useful when you want to enforce specific conditions in your code or signal that an error has occurred. Here's how it works:\n",
        "\n",
        "Syntax of Raising an Exception"
      ],
      "metadata": {
        "id": "6a-jI6Dm2upn"
      }
    },
    {
      "cell_type": "code",
      "source": [
        "raise ExceptionType(\"Optional error message\")\n"
      ],
      "metadata": {
        "id": "oe_NTvB23QdJ"
      },
      "execution_count": null,
      "outputs": []
    },
    {
      "cell_type": "markdown",
      "source": [
        "* ExceptionType: The type of exception you want to raise (e.g., ValueError, TypeError, or a custom exception class).\n",
        "* \"Optional error message\": A string providing details about the exception (optional but recommended).\n",
        "\n",
        "Example: Raising a Built-in Exception"
      ],
      "metadata": {
        "id": "U8TiVALG3SFD"
      }
    },
    {
      "cell_type": "code",
      "source": [
        "# Raise a ValueError manually\n",
        "def set_age(age):\n",
        "    if age < 0:\n",
        "        raise ValueError(\"Age cannot be negative.\")\n",
        "    print(f\"Age is set to {age}.\")\n",
        "\n",
        "set_age(-5)  # This will raise a ValueError\n"
      ],
      "metadata": {
        "id": "GMEROVAU3cgd"
      },
      "execution_count": null,
      "outputs": []
    },
    {
      "cell_type": "markdown",
      "source": [
        "Raising a Custom Exception\n",
        "\n",
        "You can create your own exception class by subclassing the Exception class and then raise it.\n",
        "\n",
        "Example:"
      ],
      "metadata": {
        "id": "1620x24J3g-c"
      }
    },
    {
      "cell_type": "code",
      "source": [
        "# Define a custom exception\n",
        "class NegativeValueError(Exception):\n",
        "    pass\n",
        "\n",
        "# Function that raises the custom exception\n",
        "def set_balance(balance):\n",
        "    if balance < 0:\n",
        "        raise NegativeValueError(\"Balance cannot be negative.\")\n",
        "    print(f\"Balance is set to {balance}.\")\n",
        "\n",
        "# Trigger the custom exception\n",
        "try:\n",
        "    set_balance(-100)\n",
        "except NegativeValueError as e:\n",
        "    print(f\"Error: {e}\")\n"
      ],
      "metadata": {
        "id": "UkwkX0wt3jrP",
        "colab": {
          "base_uri": "https://localhost:8080/"
        },
        "outputId": "373a2ddb-a7a8-4b41-cae1-0e38157a994a"
      },
      "execution_count": 2,
      "outputs": [
        {
          "output_type": "stream",
          "name": "stdout",
          "text": [
            "Error: Balance cannot be negative.\n"
          ]
        }
      ]
    },
    {
      "cell_type": "markdown",
      "source": [
        "Re-raising an Exception\n",
        "\n",
        "Sometimes, you might want to re-raise an exception after catching it, for example, to propagate it further.\n",
        "\n",
        "Example:"
      ],
      "metadata": {
        "id": "XyZJ8HoB3mvU"
      }
    },
    {
      "cell_type": "code",
      "source": [
        "try:\n",
        "    x = int(\"not_a_number\")  # Will raise ValueError\n",
        "except ValueError as e:\n",
        "    print(f\"Caught an exception: {e}\")\n",
        "    raise  # Re-raises the exception\n"
      ],
      "metadata": {
        "id": "XltVfceP3qul"
      },
      "execution_count": null,
      "outputs": []
    },
    {
      "cell_type": "markdown",
      "source": [
        "25.  Why is it important to use multithreading in certain applications?\n",
        "\n",
        "Ans :    \n",
        "\n",
        "Multithreading is important in certain applications because it allows a program to perform multiple tasks concurrently, improving efficiency and responsiveness. Here are key reasons why multithreading is significant:\n",
        "\n",
        "a. Improved Application Performance\n",
        "* Reason: Multithreading enables tasks to run in parallel, which can reduce the total execution time, especially for I/O-bound or high-latency operations like reading files, accessing databases, or network communication.\n",
        "* Example: A web scraper can fetch multiple pages simultaneously, reducing the total time needed.\n",
        "\n",
        "b. Better Responsiveness\n",
        "* Reason: Multithreading allows programs to remain responsive to user inputs even when performing time-consuming tasks in the background.\n",
        "* Example: A GUI application that loads data in the background without freezing the interface.\n",
        "\n",
        "c. Efficient Resource Utilization\n",
        "* Reason: Multithreading helps maximize the use of system resources by allowing threads to run while others are waiting (e.g., waiting for I/O operations to complete).\n",
        "* Example: A server handling multiple client requests simultaneously.\n",
        "\n",
        "d. Suitable for I/O-Bound Tasks\n",
        "* Reason: In I/O-bound tasks, threads spend a lot of time waiting for external operations (e.g., file reads or network requests). Multithreading allows other tasks to proceed during these waits.\n",
        "* Example: A chat application where one thread handles sending messages while another receives them.\n",
        "\n",
        "e. Parallelism in Multi-Core Systems\n",
        "* Reason: Multithreading takes advantage of multi-core processors by running threads on separate cores for true parallelism (when not constrained by Python's GIL).\n",
        "* Example: Video processing applications can process multiple frames or segments simultaneously.\n",
        "\n",
        "f. Simplified Program Design\n",
        "* Reason: Complex tasks can be broken down into smaller, manageable threads that run independently, simplifying program logic.\n",
        "* Example: A game where separate threads handle rendering, physics calculations, and user inputs.\n",
        "\n",
        "g. Real-Time Applications\n",
        "* Reason: Multithreading ensures that critical tasks are executed on time without delays caused by other operations.\n",
        "* Example: Embedded systems in cars or medical devices often use multithreading to handle real-time processing."
      ],
      "metadata": {
        "id": "lEWY_he13s9t"
      }
    },
    {
      "cell_type": "markdown",
      "source": [
        "Practical Questions"
      ],
      "metadata": {
        "id": "jt4bwmYe4dT6"
      }
    },
    {
      "cell_type": "markdown",
      "source": [
        "1. How can you open a file for writing in Python and write a string to it?\n",
        "\n",
        "Ans :\n",
        "\n"
      ],
      "metadata": {
        "id": "qscIaD2iLOkG"
      }
    },
    {
      "cell_type": "code",
      "source": [
        "# Open a file for writing (creates the file if it doesn't exist)\n",
        "with open('example.txt', 'w') as file:\n",
        "    # Write a string to the file\n",
        "    file.write('Hello, this is a test string!')\n",
        "\n",
        "# The file is automatically closed when the 'with' block ends.\n"
      ],
      "metadata": {
        "id": "1auradbKLq4T"
      },
      "execution_count": 1,
      "outputs": []
    },
    {
      "cell_type": "markdown",
      "source": [
        "2. Write a Python program to read the contents of a file and print each line?\n",
        "\n",
        "Ans :    \n",
        "\n"
      ],
      "metadata": {
        "id": "O4mp31VWLtcY"
      }
    },
    {
      "cell_type": "code",
      "source": [
        "# Open the file for reading\n",
        "with open('example.txt', 'r') as file:\n",
        "    # Loop through each line in the file\n",
        "    for line in file:\n",
        "        # Print the line (with end='' to avoid adding extra newlines)\n",
        "        print(line, end='')\n"
      ],
      "metadata": {
        "colab": {
          "base_uri": "https://localhost:8080/"
        },
        "id": "k7mgIsYOL_LK",
        "outputId": "57988022-478a-4900-a196-1ed5a1756226"
      },
      "execution_count": 2,
      "outputs": [
        {
          "output_type": "stream",
          "name": "stdout",
          "text": [
            "Hello, this is a test string!"
          ]
        }
      ]
    },
    {
      "cell_type": "markdown",
      "source": [
        "3. How would you handle a case where the file doesn't exist while trying to open it for reading?\n",
        "\n",
        "Ans :    \n"
      ],
      "metadata": {
        "id": "zm2qdGDbMZxF"
      }
    },
    {
      "cell_type": "code",
      "source": [
        "try:\n",
        "    # Attempt to open the file\n",
        "    with open('example.txt', 'r') as file:\n",
        "        # Read and print each line\n",
        "        for line in file:\n",
        "            print(line, end='')\n",
        "except FileNotFoundError:\n",
        "    # Handle the error\n",
        "    print(\"Error: The file does not exist. Please check the file name and try again.\")\n"
      ],
      "metadata": {
        "colab": {
          "base_uri": "https://localhost:8080/"
        },
        "id": "8wIzPMLIMmQe",
        "outputId": "d11dfeae-0fc4-46cd-e24a-c07d9624da27"
      },
      "execution_count": 3,
      "outputs": [
        {
          "output_type": "stream",
          "name": "stdout",
          "text": [
            "Hello, this is a test string!"
          ]
        }
      ]
    },
    {
      "cell_type": "markdown",
      "source": [
        "4.  Write a Python script that reads from one file and writes its content to another file?\n",
        "\n",
        "Ans :    "
      ],
      "metadata": {
        "id": "1jtQG3GaMs8P"
      }
    },
    {
      "cell_type": "code",
      "source": [
        "try:\n",
        "    # Open the source file in read mode\n",
        "    with open('source.txt', 'r') as source_file:\n",
        "        # Open the destination file in write mode\n",
        "        with open('destination.txt', 'w') as destination_file:\n",
        "            # Read and write the contents\n",
        "            for line in source_file:\n",
        "                destination_file.write(line)\n",
        "    print(\"File contents copied successfully!\")\n",
        "except FileNotFoundError:\n",
        "    print(\"Error: The source file does not exist.\")\n",
        "except Exception as e:\n",
        "    print(f\"An error occurred: {e}\")\n"
      ],
      "metadata": {
        "colab": {
          "base_uri": "https://localhost:8080/"
        },
        "id": "6qXMosCJMx2X",
        "outputId": "74c370cb-0efb-47cc-9c89-ce8385f2e2d4"
      },
      "execution_count": 4,
      "outputs": [
        {
          "output_type": "stream",
          "name": "stdout",
          "text": [
            "Error: The source file does not exist.\n"
          ]
        }
      ]
    },
    {
      "cell_type": "markdown",
      "source": [
        "5. How would you catch and handle division by zero error in Python?\n",
        "\n",
        "Ans :    \n"
      ],
      "metadata": {
        "id": "LYB4OlPCM5xH"
      }
    },
    {
      "cell_type": "code",
      "source": [
        "try:\n",
        "    # Try dividing by zero\n",
        "    numerator = 10\n",
        "    denominator = 0\n",
        "    result = numerator / denominator\n",
        "    print(f\"The result is: {result}\")\n",
        "except ZeroDivisionError:\n",
        "    # Handle division by zero error\n",
        "    print(\"Error: Cannot divide by zero.\")\n",
        "\n"
      ],
      "metadata": {
        "colab": {
          "base_uri": "https://localhost:8080/"
        },
        "id": "nXqseVS6NAWZ",
        "outputId": "262c5704-656d-4efc-be7b-3c58aa7acc46"
      },
      "execution_count": 6,
      "outputs": [
        {
          "output_type": "stream",
          "name": "stdout",
          "text": [
            "Error: Cannot divide by zero.\n"
          ]
        }
      ]
    },
    {
      "cell_type": "markdown",
      "source": [
        "6.  Write a Python program that logs an error message to a log file when a division by zero exception occurs.\n",
        "\n",
        "Ans :    "
      ],
      "metadata": {
        "id": "ys-awveHNUw9"
      }
    },
    {
      "cell_type": "code",
      "source": [
        "import logging\n",
        "\n",
        "# Set up logging configuration\n",
        "logging.basicConfig(filename='error.log', level=logging.ERROR,\n",
        "                    format='%(asctime)s - %(levelname)s - %(message)s')\n",
        "\n",
        "try:\n",
        "    # Try dividing by zero\n",
        "    numerator = 10\n",
        "    denominator = 0\n",
        "    result = numerator / denominator\n",
        "    print(f\"The result is: {result}\")\n",
        "except ZeroDivisionError as e:\n",
        "    # Log the error message to the log file\n",
        "    logging.error(\"Division by zero error occurred: %s\", e)\n",
        "    print(\"Error: Cannot divide by zero. Check the log file for details.\")\n"
      ],
      "metadata": {
        "colab": {
          "base_uri": "https://localhost:8080/"
        },
        "id": "UDOKaPXYNcGr",
        "outputId": "b05fc424-3b5a-4737-a603-ad85dd8d35e6"
      },
      "execution_count": 7,
      "outputs": [
        {
          "output_type": "stream",
          "name": "stderr",
          "text": [
            "ERROR:root:Division by zero error occurred: division by zero\n"
          ]
        },
        {
          "output_type": "stream",
          "name": "stdout",
          "text": [
            "Error: Cannot divide by zero. Check the log file for details.\n"
          ]
        }
      ]
    },
    {
      "cell_type": "markdown",
      "source": [
        "7. How do you log information at different levels (INFO, ERROR, WARNING) in Python using the logging module?\n",
        "\n",
        "Ans :    \n",
        "\n",
        "In Python, the logging module allows you to log messages at different levels, such as INFO, ERROR, and WARNING. Here's how you can log messages at these levels:\n",
        "\n",
        "Basic Setup"
      ],
      "metadata": {
        "id": "Ppmk7TGaNlq8"
      }
    },
    {
      "cell_type": "code",
      "source": [
        "import logging\n",
        "\n",
        "# Set up logging configuration\n",
        "logging.basicConfig(\n",
        "    filename='app.log',    # Log file where messages will be saved\n",
        "    level=logging.DEBUG,   # Log level to capture all logs from DEBUG and higher\n",
        "    format='%(asctime)s - %(levelname)s - %(message)s'  # Log message format\n",
        ")\n"
      ],
      "metadata": {
        "id": "pZKJcWndNt_E"
      },
      "execution_count": 8,
      "outputs": []
    },
    {
      "cell_type": "markdown",
      "source": [
        "Logging Messages at Different Levels:"
      ],
      "metadata": {
        "id": "8UK1pP2FOVuZ"
      }
    },
    {
      "cell_type": "code",
      "source": [
        "# Log an INFO message\n",
        "logging.info(\"This is an info message. Process started.\")\n",
        "\n",
        "# Log a WARNING message\n",
        "logging.warning(\"This is a warning message. Something might be wrong.\")\n",
        "\n",
        "# Log an ERROR message\n",
        "logging.error(\"This is an error message. An issue occurred.\")\n",
        "\n",
        "# Log a DEBUG message (only if level is set to DEBUG or lower)\n",
        "logging.debug(\"This is a debug message. For detailed information.\")\n",
        "\n",
        "# Log a CRITICAL message\n",
        "logging.critical(\"This is a critical message. The program is about to crash.\")\n"
      ],
      "metadata": {
        "colab": {
          "base_uri": "https://localhost:8080/"
        },
        "id": "gHuZFBPbOW34",
        "outputId": "fc3c7884-5b63-4cee-c9ad-14af0052b494"
      },
      "execution_count": 9,
      "outputs": [
        {
          "output_type": "stream",
          "name": "stderr",
          "text": [
            "WARNING:root:This is a warning message. Something might be wrong.\n",
            "ERROR:root:This is an error message. An issue occurred.\n",
            "CRITICAL:root:This is a critical message. The program is about to crash.\n"
          ]
        }
      ]
    },
    {
      "cell_type": "markdown",
      "source": [
        "8. Write a program to handle a file opening error using exception handling.\n",
        "\n",
        "Ans :    "
      ],
      "metadata": {
        "id": "VEfyqB2VOtrq"
      }
    },
    {
      "cell_type": "code",
      "source": [
        "try:\n",
        "    # Attempt to open the file for reading\n",
        "    with open('example.txt', 'r') as file:\n",
        "        content = file.read()\n",
        "        print(content)\n",
        "except FileNotFoundError:\n",
        "    # Handle the case where the file does not exist\n",
        "    print(\"Error: The file 'example.txt' was not found.\")\n",
        "except PermissionError:\n",
        "    # Handle the case where the file cannot be opened due to permission issues\n",
        "    print(\"Error: Permission denied to open the file.\")\n",
        "except Exception as e:\n",
        "    # Catch any other exceptions and print the error\n",
        "    print(f\"An error occurred: {e}\")\n",
        "\n"
      ],
      "metadata": {
        "colab": {
          "base_uri": "https://localhost:8080/"
        },
        "id": "PL6bZ8_JO9Za",
        "outputId": "f4c27398-097e-40f9-b9b1-984ce5801b96"
      },
      "execution_count": 13,
      "outputs": [
        {
          "output_type": "stream",
          "name": "stdout",
          "text": [
            "Hello, this is a test string!\n"
          ]
        }
      ]
    },
    {
      "cell_type": "markdown",
      "source": [
        "9. How can you read a file line by line and store its content in a list in Python.\n",
        "\n",
        "Ans :    \n",
        "\n",
        "To read a file line by line and store its content in a list in Python, you can use the readlines() method or loop through the file object. Here's how you can do both:\n",
        "\n",
        "Using readlines() Method:"
      ],
      "metadata": {
        "id": "CgGZC1LIPlpQ"
      }
    },
    {
      "cell_type": "code",
      "source": [
        "try:\n",
        "    # Open the file in read mode\n",
        "    with open('example.txt', 'r') as file:\n",
        "        # Read all lines and store them in a list\n",
        "        lines = file.readlines()\n",
        "\n",
        "    # Print the list of lines\n",
        "    print(lines)\n",
        "\n",
        "except FileNotFoundError:\n",
        "    print(\"Error: The file does not exist.\")\n",
        "except Exception as e:\n",
        "    print(f\"An error occurred: {e}\")\n"
      ],
      "metadata": {
        "colab": {
          "base_uri": "https://localhost:8080/"
        },
        "id": "79n9pXjxP4VD",
        "outputId": "94ccc5b6-54ef-46c9-9687-e003ab5e6548"
      },
      "execution_count": 14,
      "outputs": [
        {
          "output_type": "stream",
          "name": "stdout",
          "text": [
            "['Hello, this is a test string!']\n"
          ]
        }
      ]
    },
    {
      "cell_type": "markdown",
      "source": [
        "Using a Loop to Read Line by Line"
      ],
      "metadata": {
        "id": "UOD3A3sqQHDB"
      }
    },
    {
      "cell_type": "code",
      "source": [
        "try:\n",
        "    # Open the file in read mode\n",
        "    with open('example.txt', 'r') as file:\n",
        "        lines = []\n",
        "        # Loop through each line and append it to the list\n",
        "        for line in file:\n",
        "            lines.append(line.strip())  # Using strip() to remove extra newline characters\n",
        "\n",
        "    # Print the list of lines\n",
        "    print(lines)\n",
        "\n",
        "except FileNotFoundError:\n",
        "    print(\"Error: The file does not exist.\")\n",
        "except Exception as e:\n",
        "    print(f\"An error occurred: {e}\")\n"
      ],
      "metadata": {
        "colab": {
          "base_uri": "https://localhost:8080/"
        },
        "id": "kYqiitVyQH2z",
        "outputId": "c1075f23-074e-49db-eaf1-a51f02cd4f79"
      },
      "execution_count": 15,
      "outputs": [
        {
          "output_type": "stream",
          "name": "stdout",
          "text": [
            "['Hello, this is a test string!']\n"
          ]
        }
      ]
    },
    {
      "cell_type": "markdown",
      "source": [
        "10. How can you append data to an existing file in Python?\n",
        "\n",
        "Ans :     \n",
        "\n"
      ],
      "metadata": {
        "id": "Ok_AYHXOQN1D"
      }
    },
    {
      "cell_type": "code",
      "source": [
        "# Open the file in append mode ('a')\n",
        "with open('yourfile.txt', 'a') as file:\n",
        "    file.write(\"This is the new data that will be appended.\\n\")\n"
      ],
      "metadata": {
        "id": "swvlR4fkRgm6"
      },
      "execution_count": 16,
      "outputs": []
    },
    {
      "cell_type": "markdown",
      "source": [
        "11. Write a Python program that uses a try-except block to handle an error when attempting to access a dictionary key that doesn't exist?\n",
        "\n",
        "Ans :    "
      ],
      "metadata": {
        "id": "ZAAdFR1ORisk"
      }
    },
    {
      "cell_type": "code",
      "source": [
        "# Define a dictionary\n",
        "my_dict = {'name': 'Alice', 'age': 25, 'city': 'New York'}\n",
        "\n",
        "# Try to access a key that may not exist\n",
        "try:\n",
        "    # Attempt to access a key that might not be in the dictionary\n",
        "    value = my_dict['occupation']\n",
        "    print(value)\n",
        "except KeyError:\n",
        "    # Handle the case when the key is not found\n",
        "    print(\"Error: The key 'occupation' does not exist in the dictionary.\")\n"
      ],
      "metadata": {
        "colab": {
          "base_uri": "https://localhost:8080/"
        },
        "id": "D0qL0VLURx7r",
        "outputId": "a791a7e5-391e-4a9c-eae4-1a08a7f48a7b"
      },
      "execution_count": 17,
      "outputs": [
        {
          "output_type": "stream",
          "name": "stdout",
          "text": [
            "Error: The key 'occupation' does not exist in the dictionary.\n"
          ]
        }
      ]
    },
    {
      "cell_type": "markdown",
      "source": [
        "12. Write a program that demonstrates using multiple except blocks to handle different types of exceptions?\n",
        "\n",
        "Ans :    \n",
        "\n"
      ],
      "metadata": {
        "id": "jWQZJ3nZR6Q-"
      }
    },
    {
      "cell_type": "code",
      "source": [
        "try:\n",
        "    # User input for division\n",
        "    numerator = int(input(\"Enter numerator: \"))\n",
        "    denominator = int(input(\"Enter denominator: \"))\n",
        "\n",
        "    # Perform division\n",
        "    result = numerator / denominator\n",
        "\n",
        "    # Access an index in a list\n",
        "    my_list = [1, 2, 3]\n",
        "    index = int(input(\"Enter index to access in the list: \"))\n",
        "    print(f\"List element: {my_list[index]}\")\n",
        "\n",
        "except ZeroDivisionError:\n",
        "    print(\"Error: Division by zero is not allowed.\")\n",
        "except ValueError:\n",
        "    print(\"Error: Invalid input. Please enter a valid integer.\")\n",
        "except IndexError:\n",
        "    print(\"Error: List index out of range.\")\n",
        "except Exception as e:\n",
        "    # Catch-all for any other exceptions\n",
        "    print(f\"An unexpected error occurred: {e}\")\n",
        "else:\n",
        "    print(f\"Division result: {result}\")\n",
        "finally:\n",
        "    print(\"Program execution complete.\")\n"
      ],
      "metadata": {
        "colab": {
          "base_uri": "https://localhost:8080/"
        },
        "id": "9TdhMBx8SM_O",
        "outputId": "18e67fbf-8f51-4848-b288-9277fe37f6c1"
      },
      "execution_count": 18,
      "outputs": [
        {
          "output_type": "stream",
          "name": "stdout",
          "text": [
            "Enter numerator: 10\n",
            "Enter denominator: 5\n",
            "Enter index to access in the list: 2\n",
            "List element: 3\n",
            "Division result: 2.0\n",
            "Program execution complete.\n"
          ]
        }
      ]
    },
    {
      "cell_type": "markdown",
      "source": [
        "13.  How would you check if a file exists before attempting to read it in Python?\n",
        "\n",
        "Ans :    \n",
        "\n",
        "To check if a file exists before attempting to read it in Python, you can use the os.path.exists() function or the pathlib module. Here are both approaches:\n",
        "\n",
        "Using os.path.exists()"
      ],
      "metadata": {
        "id": "wEfb0jiTSf04"
      }
    },
    {
      "cell_type": "code",
      "source": [
        "import os\n",
        "\n",
        "file_path = \"example.txt\"\n",
        "\n",
        "# Check if the file exists\n",
        "if os.path.exists(file_path):\n",
        "    with open(file_path, 'r') as file:\n",
        "        content = file.read()\n",
        "        print(content)\n",
        "else:\n",
        "    print(f\"The file '{file_path}' does not exist.\")\n"
      ],
      "metadata": {
        "colab": {
          "base_uri": "https://localhost:8080/"
        },
        "id": "G39VDVAeS1xy",
        "outputId": "557ae728-781f-4752-a1b7-681189bd312f"
      },
      "execution_count": 19,
      "outputs": [
        {
          "output_type": "stream",
          "name": "stdout",
          "text": [
            "Hello, this is a test string!\n"
          ]
        }
      ]
    },
    {
      "cell_type": "markdown",
      "source": [
        "Using pathlib.Path"
      ],
      "metadata": {
        "id": "9mYJZfcwS8Y6"
      }
    },
    {
      "cell_type": "code",
      "source": [
        "from pathlib import Path\n",
        "\n",
        "file_path = Path(\"example.txt\")\n",
        "\n",
        "# Check if the file exists\n",
        "if file_path.is_file():\n",
        "    with file_path.open('r') as file:\n",
        "        content = file.read()\n",
        "        print(content)\n",
        "else:\n",
        "    print(f\"The file '{file_path}' does not exist.\")\n"
      ],
      "metadata": {
        "colab": {
          "base_uri": "https://localhost:8080/"
        },
        "id": "3BtfX3HuS-Ft",
        "outputId": "92612f7e-6acc-4014-983e-6ea5ab02b908"
      },
      "execution_count": 20,
      "outputs": [
        {
          "output_type": "stream",
          "name": "stdout",
          "text": [
            "Hello, this is a test string!\n"
          ]
        }
      ]
    },
    {
      "cell_type": "markdown",
      "source": [
        "14.  Write a program that uses the logging module to log both informational and error messages?\n",
        "\n",
        "Ans :    \n",
        "\n"
      ],
      "metadata": {
        "id": "rQc2FE3kTFaD"
      }
    },
    {
      "cell_type": "code",
      "source": [
        "import logging\n",
        "\n",
        "# Configure the logging module\n",
        "logging.basicConfig(\n",
        "    filename='app.log',          # Log file\n",
        "    level=logging.DEBUG,         # Log level\n",
        "    format='%(asctime)s - %(levelname)s - %(message)s'\n",
        ")\n",
        "\n",
        "def divide_numbers(a, b):\n",
        "    try:\n",
        "        # Log an informational message\n",
        "        logging.info(\"Attempting to divide %s by %s\", a, b)\n",
        "        result = a / b\n",
        "        return result\n",
        "    except ZeroDivisionError:\n",
        "        # Log an error message\n",
        "        logging.error(\"Division by zero error. Inputs: a=%s, b=%s\", a, b)\n",
        "        return None\n",
        "\n",
        "# Example usage\n",
        "if __name__ == \"__main__\":\n",
        "    logging.info(\"Program started.\")\n",
        "\n",
        "    num1 = 10\n",
        "    num2 = 0\n",
        "\n",
        "    result = divide_numbers(num1, num2)\n",
        "    if result is None:\n",
        "        logging.warning(\"Operation failed.\")\n",
        "    else:\n",
        "        logging.info(\"Operation successful. Result: %s\", result)\n",
        "\n",
        "    logging.info(\"Program ended.\")\n"
      ],
      "metadata": {
        "colab": {
          "base_uri": "https://localhost:8080/"
        },
        "id": "8fcg-QEdTXo9",
        "outputId": "5b0f07bf-b567-4d80-b353-97b3e6e3f5ff"
      },
      "execution_count": 21,
      "outputs": [
        {
          "output_type": "stream",
          "name": "stderr",
          "text": [
            "ERROR:root:Division by zero error. Inputs: a=10, b=0\n",
            "WARNING:root:Operation failed.\n"
          ]
        }
      ]
    },
    {
      "cell_type": "markdown",
      "source": [
        "15. Write a Python program that prints the content of a file and handles the case when the file is empty.\n",
        "\n",
        "Ans :   "
      ],
      "metadata": {
        "id": "QNDJf3CMTj8_"
      }
    },
    {
      "cell_type": "code",
      "source": [
        "def print_file_content(file_path):\n",
        "    try:\n",
        "        # Open the file in read mode\n",
        "        with open(file_path, 'r') as file:\n",
        "            content = file.read()\n",
        "            # Check if the file is empty\n",
        "            if content.strip():  # Check if there's any non-whitespace content\n",
        "                print(\"File Content:\\n\")\n",
        "                print(content)\n",
        "            else:\n",
        "                print(\"The file is empty.\")\n",
        "    except FileNotFoundError:\n",
        "        print(f\"Error: The file '{file_path}' does not exist.\")\n",
        "    except Exception as e:\n",
        "        print(f\"An unexpected error occurred: {e}\")\n",
        "\n",
        "# Example usage\n",
        "file_path = \"example.txt\"  # Replace with your file name\n",
        "print_file_content(file_path)\n"
      ],
      "metadata": {
        "colab": {
          "base_uri": "https://localhost:8080/"
        },
        "id": "uhYaVreBT_lA",
        "outputId": "90eb3a78-2f54-4f0b-e194-1b8e00c1386f"
      },
      "execution_count": 22,
      "outputs": [
        {
          "output_type": "stream",
          "name": "stdout",
          "text": [
            "File Content:\n",
            "\n",
            "Hello, this is a test string!\n"
          ]
        }
      ]
    },
    {
      "cell_type": "markdown",
      "source": [
        "16. Demonstrate how to use memory profiling to check the memory usage of a small program.\n",
        "\n",
        "Ans :    \n",
        "\n",
        "To check the memory usage of a Python program, you can use the memory_profiler module. Here's an example program that demonstrates how to profile memory usage:\n",
        "\n",
        "Step 1: Install memory_profiler\n",
        "\n",
        "Install the memory_profiler package if you don’t already have it:"
      ],
      "metadata": {
        "id": "cX9UNf_RUEfA"
      }
    },
    {
      "cell_type": "code",
      "source": [
        "pip install memory-profiler\n"
      ],
      "metadata": {
        "id": "Zcac2ueBUfTU"
      },
      "execution_count": null,
      "outputs": []
    },
    {
      "cell_type": "markdown",
      "source": [
        "Step 2: Write a Python Program with Memory Profiling"
      ],
      "metadata": {
        "id": "XyJfLkAxUgwj"
      }
    },
    {
      "cell_type": "code",
      "source": [
        "from memory_profiler import profile\n",
        "\n",
        "@profile\n",
        "def memory_intensive_function():\n",
        "    # Create a large list to simulate memory usage\n",
        "    large_list = [x ** 2 for x in range(10**6)]\n",
        "    print(\"List created.\")\n",
        "    return sum(large_list)\n",
        "\n",
        "if __name__ == \"__main__\":\n",
        "    result = memory_intensive_function()\n",
        "    print(f\"Sum of squares: {result}\")\n"
      ],
      "metadata": {
        "colab": {
          "base_uri": "https://localhost:8080/",
          "height": 384
        },
        "id": "vBp7Hp_UUlDz",
        "outputId": "290e5352-dd41-4c9e-b424-b568324b6a46"
      },
      "execution_count": 23,
      "outputs": [
        {
          "output_type": "error",
          "ename": "ModuleNotFoundError",
          "evalue": "No module named 'memory_profiler'",
          "traceback": [
            "\u001b[0;31m---------------------------------------------------------------------------\u001b[0m",
            "\u001b[0;31mModuleNotFoundError\u001b[0m                       Traceback (most recent call last)",
            "\u001b[0;32m<ipython-input-23-9ff3caa9660b>\u001b[0m in \u001b[0;36m<cell line: 1>\u001b[0;34m()\u001b[0m\n\u001b[0;32m----> 1\u001b[0;31m \u001b[0;32mfrom\u001b[0m \u001b[0mmemory_profiler\u001b[0m \u001b[0;32mimport\u001b[0m \u001b[0mprofile\u001b[0m\u001b[0;34m\u001b[0m\u001b[0;34m\u001b[0m\u001b[0m\n\u001b[0m\u001b[1;32m      2\u001b[0m \u001b[0;34m\u001b[0m\u001b[0m\n\u001b[1;32m      3\u001b[0m \u001b[0;34m@\u001b[0m\u001b[0mprofile\u001b[0m\u001b[0;34m\u001b[0m\u001b[0;34m\u001b[0m\u001b[0m\n\u001b[1;32m      4\u001b[0m \u001b[0;32mdef\u001b[0m \u001b[0mmemory_intensive_function\u001b[0m\u001b[0;34m(\u001b[0m\u001b[0;34m)\u001b[0m\u001b[0;34m:\u001b[0m\u001b[0;34m\u001b[0m\u001b[0;34m\u001b[0m\u001b[0m\n\u001b[1;32m      5\u001b[0m     \u001b[0;31m# Create a large list to simulate memory usage\u001b[0m\u001b[0;34m\u001b[0m\u001b[0;34m\u001b[0m\u001b[0m\n",
            "\u001b[0;31mModuleNotFoundError\u001b[0m: No module named 'memory_profiler'",
            "",
            "\u001b[0;31m---------------------------------------------------------------------------\u001b[0;32m\nNOTE: If your import is failing due to a missing package, you can\nmanually install dependencies using either !pip or !apt.\n\nTo view examples of installing some common dependencies, click the\n\"Open Examples\" button below.\n\u001b[0;31m---------------------------------------------------------------------------\u001b[0m\n"
          ],
          "errorDetails": {
            "actions": [
              {
                "action": "open_url",
                "actionText": "Open Examples",
                "url": "/notebooks/snippets/importing_libraries.ipynb"
              }
            ]
          }
        }
      ]
    },
    {
      "cell_type": "markdown",
      "source": [
        "Step 3: Run the Program\n",
        "\n",
        "Run the program with the memory_profiler enabled:"
      ],
      "metadata": {
        "id": "v_GQBiRvUpcU"
      }
    },
    {
      "cell_type": "code",
      "source": [
        "python -m memory_profiler your_program.py\n"
      ],
      "metadata": {
        "colab": {
          "base_uri": "https://localhost:8080/",
          "height": 106
        },
        "id": "hprlvxWZUrlN",
        "outputId": "dd29d914-2765-49fd-ee3b-1bbab469bac9"
      },
      "execution_count": 24,
      "outputs": [
        {
          "output_type": "error",
          "ename": "SyntaxError",
          "evalue": "invalid syntax (<ipython-input-24-c3e370ea61e7>, line 1)",
          "traceback": [
            "\u001b[0;36m  File \u001b[0;32m\"<ipython-input-24-c3e370ea61e7>\"\u001b[0;36m, line \u001b[0;32m1\u001b[0m\n\u001b[0;31m    python -m memory_profiler your_program.py\u001b[0m\n\u001b[0m              ^\u001b[0m\n\u001b[0;31mSyntaxError\u001b[0m\u001b[0;31m:\u001b[0m invalid syntax\n"
          ]
        }
      ]
    },
    {
      "cell_type": "markdown",
      "source": [
        "17. Write a Python program to create and write a list of numbers to a file, one number per line.\n",
        "\n",
        "Ans :    "
      ],
      "metadata": {
        "id": "YVgyYGbEUyGc"
      }
    },
    {
      "cell_type": "code",
      "source": [
        "def write_numbers_to_file(file_path, numbers):\n",
        "    try:\n",
        "        # Open the file in write mode\n",
        "        with open(file_path, 'w') as file:\n",
        "            for number in numbers:\n",
        "                file.write(f\"{number}\\n\")  # Write each number followed by a newline\n",
        "        print(f\"Numbers written to {file_path} successfully.\")\n",
        "    except Exception as e:\n",
        "        print(f\"An error occurred: {e}\")\n",
        "\n",
        "# Example usage\n",
        "numbers = [1, 2, 3, 4, 5, 6, 7, 8, 9, 10]  # List of numbers to write\n",
        "file_path = \"numbers.txt\"  # Specify the output file name\n",
        "\n",
        "write_numbers_to_file(file_path, numbers)\n",
        "\n"
      ],
      "metadata": {
        "colab": {
          "base_uri": "https://localhost:8080/"
        },
        "id": "u5smDmuDU-yW",
        "outputId": "b4431093-3c84-425d-f460-1ebcf94d675d"
      },
      "execution_count": 29,
      "outputs": [
        {
          "output_type": "stream",
          "name": "stdout",
          "text": [
            "Numbers written to numbers.txt successfully.\n"
          ]
        }
      ]
    },
    {
      "cell_type": "markdown",
      "source": [
        "18. How would you implement a basic logging setup that logs to a file with rotation after 1MB?\n",
        "\n",
        "Ans :    \n",
        "\n"
      ],
      "metadata": {
        "id": "37oOYGAwVrFL"
      }
    },
    {
      "cell_type": "code",
      "source": [
        "import logging\n",
        "from logging.handlers import RotatingFileHandler\n",
        "\n",
        "def setup_logging():\n",
        "    # Create a logger\n",
        "    logger = logging.getLogger(\"RotatingLogExample\")\n",
        "    logger.setLevel(logging.DEBUG)  # Set logging level\n",
        "\n",
        "    # Create a rotating file handler\n",
        "    handler = RotatingFileHandler(\n",
        "        \"app.log\",          # Log file name\n",
        "        maxBytes=1 * 1024 * 1024,  # 1 MB file size limit\n",
        "        backupCount=3       # Keep the last 3 backup files\n",
        "    )\n",
        "\n",
        "    # Define log message format\n",
        "    formatter = logging.Formatter('%(asctime)s - %(levelname)s - %(message)s')\n",
        "    handler.setFormatter(formatter)\n",
        "\n",
        "    # Add the handler to the logger\n",
        "    logger.addHandler(handler)\n",
        "\n",
        "    return logger\n",
        "\n",
        "# Example usage\n",
        "if __name__ == \"__main__\":\n",
        "    logger = setup_logging()\n",
        "\n",
        "    # Generate log messages\n",
        "    for i in range(10000):\n",
        "        logger.debug(f\"This is log message number {i}\")\n"
      ],
      "metadata": {
        "id": "3ep5zdvbWi8o"
      },
      "execution_count": null,
      "outputs": []
    },
    {
      "cell_type": "markdown",
      "source": [
        "19. Write a program that handles both IndexError and KeyError using a try-except block.\n",
        "\n",
        "Ans :    \n",
        "\n"
      ],
      "metadata": {
        "id": "7gjpR8N8WlQp"
      }
    },
    {
      "cell_type": "code",
      "source": [
        "def handle_exceptions():\n",
        "    my_list = [1, 2, 3]\n",
        "    my_dict = {'name': 'Alice', 'age': 25}\n",
        "\n",
        "    try:\n",
        "        # Attempt to access an invalid index in the list\n",
        "        print(f\"List item: {my_list[5]}\")\n",
        "\n",
        "        # Attempt to access a non-existent key in the dictionary\n",
        "        print(f\"Occupation: {my_dict['occupation']}\")\n",
        "\n",
        "    except IndexError:\n",
        "        print(\"Error: Index out of range in the list.\")\n",
        "\n",
        "    except KeyError:\n",
        "        print(\"Error: Key not found in the dictionary.\")\n",
        "\n",
        "# Example usage\n",
        "if __name__ == \"__main__\":\n",
        "    handle_exceptions()\n"
      ],
      "metadata": {
        "colab": {
          "base_uri": "https://localhost:8080/"
        },
        "id": "_2vx9oe2W2ep",
        "outputId": "718432e9-6469-41a5-bf21-275d56870a10"
      },
      "execution_count": 31,
      "outputs": [
        {
          "output_type": "stream",
          "name": "stdout",
          "text": [
            "Error: Index out of range in the list.\n"
          ]
        }
      ]
    },
    {
      "cell_type": "markdown",
      "source": [
        "20.  How would you open a file and read its contents using a context manager in Python?\n",
        "\n",
        "Ans :    \n",
        "\n",
        "In Python, you can use a context manager with the with statement to open and read a file safely and efficiently. The context manager automatically handles opening and closing the file, even if an exception occurs during the file operation.\n",
        "\n",
        "Example Code"
      ],
      "metadata": {
        "id": "sRD5YoRoW8Cq"
      }
    },
    {
      "cell_type": "code",
      "source": [
        "def read_file(file_path):\n",
        "    try:\n",
        "        # Use a context manager to open the file\n",
        "        with open(file_path, 'r') as file:\n",
        "            # Read the contents of the file\n",
        "            content = file.read()\n",
        "            print(\"File Content:\")\n",
        "            print(content)\n",
        "    except FileNotFoundError:\n",
        "        print(f\"Error: The file '{file_path}' does not exist.\")\n",
        "    except Exception as e:\n",
        "        print(f\"An unexpected error occurred: {e}\")\n",
        "\n",
        "# Example usage\n",
        "file_path = \"example.txt\"  # Replace with your file path\n",
        "read_file(file_path)\n"
      ],
      "metadata": {
        "colab": {
          "base_uri": "https://localhost:8080/"
        },
        "id": "hA3icUbNXMfU",
        "outputId": "1235591c-aee1-42ac-d61a-38dac6ec9e41"
      },
      "execution_count": 32,
      "outputs": [
        {
          "output_type": "stream",
          "name": "stdout",
          "text": [
            "File Content:\n",
            "Hello, this is a test string!\n"
          ]
        }
      ]
    },
    {
      "cell_type": "markdown",
      "source": [
        "21. Write a Python program that reads a file and prints the number of occurrences of a specific word.\n",
        "\n",
        "Ans :    "
      ],
      "metadata": {
        "id": "PbdIpEx4XPbV"
      }
    },
    {
      "cell_type": "code",
      "source": [
        "def count_word_occurrences(file_path, word):\n",
        "    try:\n",
        "        with open(file_path, 'r') as file:\n",
        "            content = file.read()\n",
        "            word_count = content.lower().split().count(word.lower())\n",
        "            print(f\"The word '{word}' occurred {word_count} times.\")\n",
        "    except FileNotFoundError:\n",
        "        print(f\"Error: The file '{file_path}' does not exist.\")\n",
        "    except Exception as e:\n",
        "        print(f\"An unexpected error occurred: {e}\")\n",
        "\n",
        "# Example usage\n",
        "file_path = \"example.txt\"  # Replace with your file path\n",
        "word_to_count = \"python\"   # Replace with the word you want to count\n",
        "count_word_occurrences(file_path, word_to_count)\n"
      ],
      "metadata": {
        "colab": {
          "base_uri": "https://localhost:8080/"
        },
        "id": "nrYi7e41Xc53",
        "outputId": "3c8d80dd-e92d-4016-b000-bf76a0a8d144"
      },
      "execution_count": 33,
      "outputs": [
        {
          "output_type": "stream",
          "name": "stdout",
          "text": [
            "The word 'python' occurred 0 times.\n"
          ]
        }
      ]
    },
    {
      "cell_type": "markdown",
      "source": [
        "22.  How can you check if a file is empty before attempting to read its contents?\n",
        "\n",
        "Ans :    \n",
        "\n",
        "To check if a file is empty before attempting to read its contents in Python, you can use the os.path.getsize() method to check the file size or open the file and attempt to read its contents. Here's how you can implement both approaches:\n",
        "\n",
        "Method 1: Using os.path.getsize()\n",
        "\n",
        "This method checks the size of the file before reading it. If the file size is zero, it’s empty."
      ],
      "metadata": {
        "id": "oauPV16xXe3V"
      }
    },
    {
      "cell_type": "code",
      "source": [
        "import os\n",
        "\n",
        "def read_file_if_not_empty(file_path):\n",
        "    # Check if the file is empty\n",
        "    if os.path.getsize(file_path) == 0:\n",
        "        print(\"The file is empty.\")\n",
        "    else:\n",
        "        with open(file_path, 'r') as file:\n",
        "            content = file.read()\n",
        "            print(\"File Content:\")\n",
        "            print(content)\n",
        "\n",
        "# Example usage\n",
        "file_path = \"example.txt\"  # Replace with your file path\n",
        "read_file_if_not_empty(file_path)\n"
      ],
      "metadata": {
        "colab": {
          "base_uri": "https://localhost:8080/"
        },
        "id": "bFDnXk5YXxCW",
        "outputId": "b3d56cb4-d89c-4726-8bc6-a114a9b43641"
      },
      "execution_count": 34,
      "outputs": [
        {
          "output_type": "stream",
          "name": "stdout",
          "text": [
            "File Content:\n",
            "Hello, this is a test string!\n"
          ]
        }
      ]
    },
    {
      "cell_type": "markdown",
      "source": [
        "Method 2: Using try-except and Reading the File\n",
        "\n",
        "Alternatively, you can attempt to read the file and handle the case if it's empty.\n"
      ],
      "metadata": {
        "id": "BaIS7PwVXzrf"
      }
    },
    {
      "cell_type": "code",
      "source": [
        "def read_file_if_not_empty(file_path):\n",
        "    try:\n",
        "        with open(file_path, 'r') as file:\n",
        "            content = file.read()\n",
        "            if not content:  # Check if the content is empty\n",
        "                print(\"The file is empty.\")\n",
        "            else:\n",
        "                print(\"File Content:\")\n",
        "                print(content)\n",
        "    except FileNotFoundError:\n",
        "        print(f\"Error: The file '{file_path}' does not exist.\")\n",
        "    except Exception as e:\n",
        "        print(f\"An unexpected error occurred: {e}\")\n",
        "\n",
        "# Example usage\n",
        "file_path = \"example.txt\"  # Replace with your file path\n",
        "read_file_if_not_empty(file_path)\n"
      ],
      "metadata": {
        "colab": {
          "base_uri": "https://localhost:8080/"
        },
        "id": "hsP79VdCX4sQ",
        "outputId": "63d5bd5e-3a94-463e-9a1f-81bb89d8517a"
      },
      "execution_count": 35,
      "outputs": [
        {
          "output_type": "stream",
          "name": "stdout",
          "text": [
            "File Content:\n",
            "Hello, this is a test string!\n"
          ]
        }
      ]
    },
    {
      "cell_type": "markdown",
      "source": [
        "23. Write a Python program that writes to a log file when an error occurs during file handling.\n",
        "\n",
        "Ans :    \n",
        "\n"
      ],
      "metadata": {
        "id": "d1sf3amQYAGJ"
      }
    },
    {
      "cell_type": "code",
      "source": [
        "import logging\n",
        "\n",
        "# Set up logging configuration\n",
        "logging.basicConfig(\n",
        "    filename='file_error.log',  # Log file name\n",
        "    level=logging.ERROR,        # Log level (only ERROR and above will be logged)\n",
        "    format='%(asctime)s - %(levelname)s - %(message)s'\n",
        ")\n",
        "\n",
        "def read_file(file_path):\n",
        "    try:\n",
        "        # Try to open the file and read its contents\n",
        "        with open(file_path, 'r') as file:\n",
        "            content = file.read()\n",
        "            print(\"File Content:\")\n",
        "            print(content)\n",
        "    except FileNotFoundError:\n",
        "        error_message = f\"File '{file_path}' not found.\"\n",
        "        print(error_message)\n",
        "        logging.error(error_message)  # Log the error message\n",
        "    except Exception as e:\n",
        "        error_message = f\"An unexpected error occurred: {e}\"\n",
        "        print(error_message)\n",
        "        logging.error(error_message)  # Log the error message\n",
        "\n",
        "# Example usage\n",
        "file_path = \"non_existent_file.txt\"  # This file doesn't exist\n",
        "read_file(file_path)\n"
      ],
      "metadata": {
        "colab": {
          "base_uri": "https://localhost:8080/"
        },
        "id": "PkecUUwDYMyK",
        "outputId": "7db63af6-1fc9-46a0-964f-38f600754070"
      },
      "execution_count": 36,
      "outputs": [
        {
          "output_type": "stream",
          "name": "stderr",
          "text": [
            "ERROR:root:File 'non_existent_file.txt' not found.\n"
          ]
        },
        {
          "output_type": "stream",
          "name": "stdout",
          "text": [
            "File 'non_existent_file.txt' not found.\n"
          ]
        }
      ]
    }
  ]
}