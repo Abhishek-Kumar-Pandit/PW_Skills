{
  "nbformat": 4,
  "nbformat_minor": 0,
  "metadata": {
    "colab": {
      "provenance": []
    },
    "kernelspec": {
      "name": "python3",
      "display_name": "Python 3"
    },
    "language_info": {
      "name": "python"
    }
  },
  "cells": [
    {
      "cell_type": "markdown",
      "source": [
        "1. Explain the key features of python that make it a popular choice for programming.\n",
        "\n",
        "Ans:\n",
        "\n",
        "a.  Python is simple and easy to learn\n",
        "\n",
        " Its simple and clean syntax makes it easy. Its commands are English-based, and its straightforward layout helps new programmers understand code easily. This simplicity also makes Python suitable for rapid development and prototyping, reducing the time it takes from concept to implementation.\n",
        "\n",
        "b.  Extensive Community Support\n",
        "\n",
        "Python has a vast and active community, which means there are numerous resources, tutorials, forums, and third-party libraries available. This helps both beginners and experts to find solutions to problems quickly.\n",
        "\n",
        "c.   Large Standard Library\n",
        "Python comes with a vast standard library that provides pre-built functions and modules for various applications, including web development, file manipulation, and database operations.\n",
        "\n",
        "d. Dynamic Typing\n",
        "\n",
        "Python is dynamically typed, meaning you don’t need to declare variable types explicitly. The interpreter assigns the data type automatically, reducing the need for verbose syntax and making the code more concise.\n",
        "\n",
        "e. Interpreted Language\n",
        "\n",
        "Python is an interpreted language, meaning that code is executed line-by-line. This allows for immediate feedback and quick debugging, making development faster and more flexible."
      ],
      "metadata": {
        "id": "aVmWQ4qaAtpJ"
      }
    },
    {
      "cell_type": "markdown",
      "source": [
        "2. Describe the role of predefined keywords in python and provide examples of how they are used in progeam.\n",
        "\n",
        "Ans:\n",
        "\n",
        "In Python, predefined keywords (or reserved words) are specific words that have special meanings and functions within the language. They are essential for defining the syntax and structure of Python programs and cannot be used as variable names or identifiers because they serve specific roles in code.\n"
      ],
      "metadata": {
        "id": "PryRg4xbC2tu"
      }
    },
    {
      "cell_type": "markdown",
      "source": [
        "Role of Predefined Keywords in Python\n",
        "\n",
        "a. Control Flow:\n",
        "\n",
        "Keywords like if, else, elif, for, while, and break control the flow of the program by enabling conditional execution and loops."
      ],
      "metadata": {
        "id": "1_sSBKZkC2qQ"
      }
    },
    {
      "cell_type": "code",
      "source": [
        "age = 18\n",
        "if age >= 18:\n",
        "    print(\"You are eligible to vote.\")\n",
        "else:\n",
        "    print(\"You are not eligible to vote.\")\n"
      ],
      "metadata": {
        "colab": {
          "base_uri": "https://localhost:8080/"
        },
        "id": "14TGRmEpGssE",
        "outputId": "aa8d2c03-3ace-4ce0-c0ba-61085018f9f3"
      },
      "execution_count": null,
      "outputs": [
        {
          "output_type": "stream",
          "name": "stdout",
          "text": [
            "You are eligible to vote.\n"
          ]
        }
      ]
    },
    {
      "cell_type": "markdown",
      "source": [
        "b. Defining Functions and Classes:\n",
        "\n",
        "Keywords like def and class help define functions and classes, allowing code to be modular and reusable."
      ],
      "metadata": {
        "id": "dw1obzrVHPOU"
      }
    },
    {
      "cell_type": "code",
      "source": [
        "def add_numbers(a, b):\n",
        "    return a + b\n",
        "\n",
        "result = add_numbers(3, 5)\n",
        "print(result)\n"
      ],
      "metadata": {
        "colab": {
          "base_uri": "https://localhost:8080/"
        },
        "id": "xS5GAmxzHWSD",
        "outputId": "1096ba67-8cf0-4649-c403-036875d0fe83"
      },
      "execution_count": null,
      "outputs": [
        {
          "output_type": "stream",
          "name": "stdout",
          "text": [
            "8\n"
          ]
        }
      ]
    },
    {
      "cell_type": "markdown",
      "source": [
        "c. Logical Operations:\n",
        "\n",
        " Keywords like and, or, and not are used for logical comparisons, enabling complex decision-making."
      ],
      "metadata": {
        "id": "_TEespUFIhgI"
      }
    },
    {
      "cell_type": "code",
      "source": [
        "a, b = True, False\n",
        "print(a and b)\n",
        "print(a or b)\n",
        "print(not a)\n"
      ],
      "metadata": {
        "colab": {
          "base_uri": "https://localhost:8080/"
        },
        "id": "dAhGfKViIsvE",
        "outputId": "57f75a05-a3cd-44d3-a536-45cf4a9262fc"
      },
      "execution_count": null,
      "outputs": [
        {
          "output_type": "stream",
          "name": "stdout",
          "text": [
            "False\n",
            "True\n",
            "False\n"
          ]
        }
      ]
    },
    {
      "cell_type": "markdown",
      "source": [
        "3. Compare and contrast mutable and immutable object in python with examples.\n",
        "\n",
        "\n",
        "Ans:\n",
        "\n",
        "In Python, objects are classified as either mutable or immutable based on whether their value or state can be changed after they are created. Understanding this distinction is essential for effective memory management and efficient programming.\n",
        "\n",
        "Mutable Objects\n",
        "\n",
        "Definition: Mutable objects are those whose value or state can be changed after they are created.\n",
        "\n",
        "Common Examples: Lists, dictionaries, sets, and custom objects.\n",
        "\n",
        "Memory Management: When a mutable object is modified, the object retains its memory address; only its content changes.\n",
        "\n",
        "Examples of Mutable Objects\n",
        "\n",
        "a. Lists\n"
      ],
      "metadata": {
        "id": "iNpSokvyI8QS"
      }
    },
    {
      "cell_type": "code",
      "source": [
        "my_list = [1, 2, 3]\n",
        "print(\"Original List:\", my_list)\n",
        "\n",
        "# Modifying the list\n",
        "my_list.append(4)\n",
        "print(\"Modified List:\", my_list)\n"
      ],
      "metadata": {
        "colab": {
          "base_uri": "https://localhost:8080/"
        },
        "id": "cdW4wB26KqWg",
        "outputId": "f6406474-9dd2-47b8-87d0-156c6dd72553"
      },
      "execution_count": null,
      "outputs": [
        {
          "output_type": "stream",
          "name": "stdout",
          "text": [
            "Original List: [1, 2, 3]\n",
            "Modified List: [1, 2, 3, 4]\n"
          ]
        }
      ]
    },
    {
      "cell_type": "markdown",
      "source": [
        "b. Dictionaries"
      ],
      "metadata": {
        "id": "CSa_d7KIK32X"
      }
    },
    {
      "cell_type": "code",
      "source": [
        "my_dict = {'a': 1, 'b': 2}\n",
        "print(\"Original Dictionary:\", my_dict)\n",
        "\n",
        "# Modifying the dictionary\n",
        "my_dict['c'] = 3\n",
        "print(\"Modified Dictionary:\", my_dict)\n"
      ],
      "metadata": {
        "colab": {
          "base_uri": "https://localhost:8080/"
        },
        "id": "OC6WhKhBLB8U",
        "outputId": "3cbc0a57-33c3-49af-b7cd-600c5b859a9c"
      },
      "execution_count": null,
      "outputs": [
        {
          "output_type": "stream",
          "name": "stdout",
          "text": [
            "Original Dictionary: {'a': 1, 'b': 2}\n",
            "Modified Dictionary: {'a': 1, 'b': 2, 'c': 3}\n"
          ]
        }
      ]
    },
    {
      "cell_type": "markdown",
      "source": [
        "Immutable Objects\n",
        "\n",
        "Definition: Immutable objects are those whose value or state cannot be changed once they are created.\n",
        "\n",
        "Common Examples: Integers, floats, strings, and tuples.\n",
        "\n",
        "Memory Management: When you try to modify an immutable object, a new object with a different memory address is created instead of altering the original one.\n",
        "\n",
        "Examples of Immutable Objects\n",
        "\n",
        "a. Strings"
      ],
      "metadata": {
        "id": "58ibLNbkLLjP"
      }
    },
    {
      "cell_type": "code",
      "source": [
        "my_string = \"hello\"\n",
        "print(\"Original String:\", my_string)\n",
        "\n",
        "# Trying to modify the string\n",
        "new_string = my_string + \" world\"\n",
        "print(\"New String:\", new_string)\n",
        "print(\"Original String remains:\", my_string)\n"
      ],
      "metadata": {
        "colab": {
          "base_uri": "https://localhost:8080/"
        },
        "id": "ukil4pd7LedB",
        "outputId": "86bc199b-7855-4a49-c202-f622324270cd"
      },
      "execution_count": null,
      "outputs": [
        {
          "output_type": "stream",
          "name": "stdout",
          "text": [
            "Original String: hello\n",
            "New String: hello world\n",
            "Original String remains: hello\n"
          ]
        }
      ]
    },
    {
      "cell_type": "markdown",
      "source": [
        "b. Tuples"
      ],
      "metadata": {
        "id": "sUim8q51LpMj"
      }
    },
    {
      "cell_type": "code",
      "source": [
        "my_tuple = (1, 2, 3)\n",
        "print(\"Original Tuple:\", my_tuple)  # Output: (1, 2, 3)\n",
        "\n",
        "# Attempting modification will cause an error\n",
        "# my_tuple[0] = 0  # TypeError: 'tuple' object does not support item assignment\n"
      ],
      "metadata": {
        "colab": {
          "base_uri": "https://localhost:8080/"
        },
        "id": "_2mUvIylLvgT",
        "outputId": "283b3f26-9f6a-418c-ab0c-a2258898cecc"
      },
      "execution_count": null,
      "outputs": [
        {
          "output_type": "stream",
          "name": "stdout",
          "text": [
            "Original Tuple: (1, 2, 3)\n"
          ]
        }
      ]
    },
    {
      "cell_type": "markdown",
      "source": [
        "4. Discuss the different types of operators in python and provide examples of how they are used.\n",
        "\n",
        "Ans.\n",
        "\n",
        "In Python, operators are special symbols that perform computations on variables and values. They fall into several categories, each serving a different purpose in expressions.\n",
        "\n",
        "a. Arithmetic Operators\n",
        "\n",
        "These operators are used to perform basic mathematical operations.\n",
        "\n",
        "Example:+, -, /, *, %."
      ],
      "metadata": {
        "id": "ZjdGyoqPL7_l"
      }
    },
    {
      "cell_type": "code",
      "source": [
        "a, b = 10, 3\n",
        "print(a + b)\n",
        "print(a ** b)\n"
      ],
      "metadata": {
        "colab": {
          "base_uri": "https://localhost:8080/"
        },
        "id": "AQXYlO6pZuYS",
        "outputId": "d4805042-d090-49f8-be16-985422dd24db"
      },
      "execution_count": null,
      "outputs": [
        {
          "output_type": "stream",
          "name": "stdout",
          "text": [
            "13\n",
            "1000\n"
          ]
        }
      ]
    },
    {
      "cell_type": "markdown",
      "source": [
        "b. Comparison Operators\n",
        "\n",
        "Comparison operators are used to compare values, returning True or False as a result.\n",
        "\n",
        "Example: ==, >, <, !=, >=, <="
      ],
      "metadata": {
        "id": "j4syzDFYZyO6"
      }
    },
    {
      "cell_type": "code",
      "source": [
        "x, y = 7, 10\n",
        "print(x < y)\n",
        "print(x == y)\n"
      ],
      "metadata": {
        "colab": {
          "base_uri": "https://localhost:8080/"
        },
        "id": "WzWi8Q66bECZ",
        "outputId": "b1697eeb-b764-4b2f-e04d-278f32fda5b9"
      },
      "execution_count": null,
      "outputs": [
        {
          "output_type": "stream",
          "name": "stdout",
          "text": [
            "True\n",
            "False\n"
          ]
        }
      ]
    },
    {
      "cell_type": "markdown",
      "source": [
        "c. Logical Operators\n",
        "\n",
        "Logical operators combine multiple conditions and return True or False."
      ],
      "metadata": {
        "id": "EeaPKDJUbYZe"
      }
    },
    {
      "cell_type": "code",
      "source": [
        "a, b, c = True, False, True\n",
        "print(a and b)\n",
        "print(a or b)\n",
        "print(not a)\n"
      ],
      "metadata": {
        "colab": {
          "base_uri": "https://localhost:8080/"
        },
        "id": "crSYgTvgbphM",
        "outputId": "147fb1aa-333f-4da3-96e6-72006edca228"
      },
      "execution_count": null,
      "outputs": [
        {
          "output_type": "stream",
          "name": "stdout",
          "text": [
            "False\n",
            "True\n",
            "False\n"
          ]
        }
      ]
    },
    {
      "cell_type": "markdown",
      "source": [
        "d. Assignment Operators\n",
        "\n",
        "These operators are used to assign values to variables, often with a combined arithmetic operation."
      ],
      "metadata": {
        "id": "KT-eq9recKAJ"
      }
    },
    {
      "cell_type": "code",
      "source": [
        "x = 5\n",
        "x += 3\n",
        "print(x)\n",
        "x *= 2\n",
        "print(x)\n"
      ],
      "metadata": {
        "colab": {
          "base_uri": "https://localhost:8080/"
        },
        "id": "cUcuzOp2cUqd",
        "outputId": "ef829b76-e733-4266-ad39-d5785ace89e0"
      },
      "execution_count": null,
      "outputs": [
        {
          "output_type": "stream",
          "name": "stdout",
          "text": [
            "8\n",
            "16\n"
          ]
        }
      ]
    },
    {
      "cell_type": "markdown",
      "source": [
        "e. Bitwise Operators\n",
        "\n",
        "Bitwise operators perform operations on binary representations of numbers."
      ],
      "metadata": {
        "id": "ViWBucnGck8P"
      }
    },
    {
      "cell_type": "code",
      "source": [
        "a, b = 5, 3\n",
        "print(a & b)\n",
        "print(a | b)\n",
        "print(a << 1)\n"
      ],
      "metadata": {
        "colab": {
          "base_uri": "https://localhost:8080/"
        },
        "id": "UKYhTOCqcqcD",
        "outputId": "184965b4-ec71-45a4-fa56-9e0b5d9b90e1"
      },
      "execution_count": null,
      "outputs": [
        {
          "output_type": "stream",
          "name": "stdout",
          "text": [
            "1\n",
            "7\n",
            "10\n"
          ]
        }
      ]
    },
    {
      "cell_type": "markdown",
      "source": [
        "f. Identity Operators\n",
        "\n",
        "Identity operators are used to compare the memory location of two objects."
      ],
      "metadata": {
        "id": "swWGnl1Qc7NA"
      }
    },
    {
      "cell_type": "code",
      "source": [
        "x = [1, 2, 3]\n",
        "y = x\n",
        "z = [1, 2, 3]\n",
        "print(x is y)\n",
        "print(x is z)\n"
      ],
      "metadata": {
        "colab": {
          "base_uri": "https://localhost:8080/"
        },
        "id": "_qjNjOAwc-Co",
        "outputId": "ab821f86-efbc-4fd1-8d73-f649aaf65948"
      },
      "execution_count": null,
      "outputs": [
        {
          "output_type": "stream",
          "name": "stdout",
          "text": [
            "True\n",
            "False\n"
          ]
        }
      ]
    },
    {
      "cell_type": "markdown",
      "source": [
        "g. Membership Operators\n",
        "\n",
        "Membership operators check if a value or variable is in a sequence (like a list, string, or tuple)."
      ],
      "metadata": {
        "id": "KSHuJ-CBdJ9q"
      }
    },
    {
      "cell_type": "code",
      "source": [
        "lst = [1, 2, 3]\n",
        "print(2 in lst)\n",
        "print(5 not in lst)\n"
      ],
      "metadata": {
        "colab": {
          "base_uri": "https://localhost:8080/"
        },
        "id": "sptdphrbdM41",
        "outputId": "6595303c-582b-43a1-fc61-e760ed8efc6a"
      },
      "execution_count": null,
      "outputs": [
        {
          "output_type": "stream",
          "name": "stdout",
          "text": [
            "True\n",
            "True\n"
          ]
        }
      ]
    },
    {
      "cell_type": "markdown",
      "source": [
        "5. Explain the concept of type casting in Python with examples.\n",
        "\n",
        "Ans :\n",
        "\n",
        "In Python, type casting is the process of converting one data type to another. It can be done either implicitly by Python or explicitly by the programmer\n",
        "\n",
        "a. Implicit Type Casting\n",
        "\n",
        "In implicit type casting, Python automatically converts one data type to another without any user intervention. This usually happens when performing operations between different data types where Python automatically promotes the \"smaller\" data type to the \"larger\" one to avoid data loss.\n",
        "\n",
        "Example :"
      ],
      "metadata": {
        "id": "6wydDcq-dcky"
      }
    },
    {
      "cell_type": "code",
      "source": [
        "num_int = 10\n",
        "num_float = 2.5\n",
        "\n",
        "result = num_int + num_float\n",
        "print(result)\n",
        "print(type(result))\n"
      ],
      "metadata": {
        "colab": {
          "base_uri": "https://localhost:8080/"
        },
        "id": "A8-t_HzvYHfq",
        "outputId": "994ed01c-be1d-494d-d114-213f1bced8ba"
      },
      "execution_count": 1,
      "outputs": [
        {
          "output_type": "stream",
          "name": "stdout",
          "text": [
            "12.5\n",
            "<class 'float'>\n"
          ]
        }
      ]
    },
    {
      "cell_type": "markdown",
      "source": [
        "b. Explicit Type Casting\n",
        "\n",
        "Explicit type casting is done manually by using Python’s built-in functions, such as int(), float(), str(), etc. This is helpful when you need to ensure that a variable is of a particular type.\n",
        "\n",
        "Example :"
      ],
      "metadata": {
        "id": "T1TOONlRYlzE"
      }
    },
    {
      "cell_type": "code",
      "source": [
        "num_float = 10.5\n",
        "num_int = int(num_float)\n",
        "print(num_int)\n",
        "print(type(num_int))\n"
      ],
      "metadata": {
        "colab": {
          "base_uri": "https://localhost:8080/"
        },
        "id": "xpJrYTKlYtsd",
        "outputId": "390570c3-fb2b-48ca-cb53-4f4d429547e5"
      },
      "execution_count": 2,
      "outputs": [
        {
          "output_type": "stream",
          "name": "stdout",
          "text": [
            "10\n",
            "<class 'int'>\n"
          ]
        }
      ]
    },
    {
      "cell_type": "markdown",
      "source": [
        "6. How do conditional statements work in Python? Illustrate with example.\n",
        "\n",
        "Ans :\n",
        "\n",
        "In Python, conditional statements allow the program to make decisions and execute certain parts of code based on whether specific conditions are true or false. The most common conditional statements are if, elif, and else.\n",
        "\n",
        "a. if Statement\n",
        "\n",
        "The if statement checks if a condition is true. If it is, the code block under the if statement is executed."
      ],
      "metadata": {
        "id": "qn3tfveJZB-V"
      }
    },
    {
      "cell_type": "code",
      "source": [
        "age = 18\n",
        "if age >= 18:\n",
        "    print(\"You are eligible to vote.\")\n"
      ],
      "metadata": {
        "colab": {
          "base_uri": "https://localhost:8080/"
        },
        "id": "DCNHDd5gaEjo",
        "outputId": "bc611c53-8853-4587-8d93-5dc805abd06b"
      },
      "execution_count": 3,
      "outputs": [
        {
          "output_type": "stream",
          "name": "stdout",
          "text": [
            "You are eligible to vote.\n"
          ]
        }
      ]
    },
    {
      "cell_type": "markdown",
      "source": [
        "b. else Statement\n",
        "\n",
        "The else statement provides an alternative code block that runs if the if condition is false."
      ],
      "metadata": {
        "id": "itPOZiGtaLly"
      }
    },
    {
      "cell_type": "code",
      "source": [
        "age = 16\n",
        "if age >= 18:\n",
        "    print(\"You are eligible to vote.\")\n",
        "else:\n",
        "    print(\"You are not eligible to vote.\")"
      ],
      "metadata": {
        "colab": {
          "base_uri": "https://localhost:8080/"
        },
        "id": "yCkTy4MtaStu",
        "outputId": "2926551a-3933-4eca-ad85-6722b11bbce8"
      },
      "execution_count": 4,
      "outputs": [
        {
          "output_type": "stream",
          "name": "stdout",
          "text": [
            "You are not eligible to vote.\n"
          ]
        }
      ]
    },
    {
      "cell_type": "markdown",
      "source": [
        "c. elif Statement\n",
        "\n",
        "The elif statement allows multiple conditions to be checked sequentially. If the if condition is false, Python checks the elif condition(s), and if one of them is true, the corresponding code block executes. You can have multiple elif statements, and they must come between if and else."
      ],
      "metadata": {
        "id": "-dVRJK33aZTS"
      }
    },
    {
      "cell_type": "code",
      "source": [
        "score = 85\n",
        "if score >= 90:\n",
        "    print(\"Grade: A\")\n",
        "elif score >= 80:\n",
        "    print(\"Grade: B\")\n",
        "elif score >= 70:\n",
        "    print(\"Grade: C\")\n",
        "else:\n",
        "    print(\"Grade: D\")\n"
      ],
      "metadata": {
        "colab": {
          "base_uri": "https://localhost:8080/"
        },
        "id": "3FHSNDJLajHo",
        "outputId": "1f125a6b-7a2b-47c2-dd3a-4436a182e1b1"
      },
      "execution_count": 5,
      "outputs": [
        {
          "output_type": "stream",
          "name": "stdout",
          "text": [
            "Grade: B\n"
          ]
        }
      ]
    },
    {
      "cell_type": "markdown",
      "source": [
        "e. Nested if Statements\n",
        "\n",
        "You can also nest if statements within each other for more complex conditions."
      ],
      "metadata": {
        "id": "qr4MdmtLa24p"
      }
    },
    {
      "cell_type": "code",
      "source": [
        "age = 20\n",
        "is_registered = True\n",
        "\n",
        "if age >= 18:\n",
        "    if is_registered:\n",
        "        print(\"You are eligible to vote.\")\n",
        "    else:\n",
        "        print(\"Please register to vote.\")\n",
        "else:\n",
        "    print(\"You are not eligible to vote.\")\n"
      ],
      "metadata": {
        "colab": {
          "base_uri": "https://localhost:8080/"
        },
        "id": "ncC9JhPSbG3o",
        "outputId": "5d95a5c2-8198-4a76-e729-7fa5357bd41b"
      },
      "execution_count": 6,
      "outputs": [
        {
          "output_type": "stream",
          "name": "stdout",
          "text": [
            "You are eligible to vote.\n"
          ]
        }
      ]
    },
    {
      "cell_type": "markdown",
      "source": [
        "Example: Complete Conditional Structure"
      ],
      "metadata": {
        "id": "MHVpbh0vbTc2"
      }
    },
    {
      "cell_type": "code",
      "source": [
        "temperature = 30\n",
        "\n",
        "if temperature > 30:\n",
        "    print(\"It's hot outside.\")\n",
        "elif temperature >= 20:\n",
        "    print(\"The weather is pleasant.\")\n",
        "else:\n",
        "    print(\"It's cold outside.\")\n"
      ],
      "metadata": {
        "colab": {
          "base_uri": "https://localhost:8080/"
        },
        "id": "WfTydYJ8baJd",
        "outputId": "84805dfc-bffd-4b84-c212-798b10e720bd"
      },
      "execution_count": 7,
      "outputs": [
        {
          "output_type": "stream",
          "name": "stdout",
          "text": [
            "The weather is pleasant.\n"
          ]
        }
      ]
    },
    {
      "cell_type": "markdown",
      "source": [
        "7. Describe the different types of loops in Python and their use cases with example.\n",
        "\n",
        "Ans :\n",
        "\n",
        "Python provides two primary types of loops for iterating through data and performing repeated tasks: for loops and while loops.\n",
        "\n",
        "a. for loop\n",
        "\n",
        "The for loop is used to iterate over a sequence (like a list, tuple, dictionary, set, or string) or a range of numbers. It is commonly used when the number of iterations is known or when iterating through elements in a collection.\n",
        "\n",
        "Use Cases for for Loop\n",
        "\n",
        "\n",
        "*   Iterating through elements of a list, tuple, or string.\n",
        "*   Repeating actions a set number of times.\n",
        "*   Accessing elements of a dictionary using key-value pairs"
      ],
      "metadata": {
        "id": "fZCAI_7IcmB1"
      }
    },
    {
      "cell_type": "code",
      "source": [
        "for i in range(5):\n",
        "    print(i)"
      ],
      "metadata": {
        "colab": {
          "base_uri": "https://localhost:8080/"
        },
        "id": "55kutkVidinx",
        "outputId": "b53cd1a3-224d-4e86-faee-1af3e3346703"
      },
      "execution_count": 8,
      "outputs": [
        {
          "output_type": "stream",
          "name": "stdout",
          "text": [
            "0\n",
            "1\n",
            "2\n",
            "3\n",
            "4\n"
          ]
        }
      ]
    },
    {
      "cell_type": "markdown",
      "source": [
        "b. while loop\n",
        "\n",
        "The while loop continues executing the code block as long as the condition specified remains true. It is commonly used when the number of iterations is not known in advance and depends on a condition that will change during the loop's execution.\n",
        "\n",
        "Use Cases for while Loop\n",
        "*   When you need to keep repeating an action until a certain condition changes.\n",
        "*   Useful for reading data until the end of a file or waiting for a specific user input.\n"
      ],
      "metadata": {
        "id": "RV1YS6VVeCIe"
      }
    },
    {
      "cell_type": "code",
      "source": [
        "count = 0\n",
        "while count < 5:\n",
        "    print(count)\n",
        "    count += 1"
      ],
      "metadata": {
        "colab": {
          "base_uri": "https://localhost:8080/"
        },
        "id": "lNu7xZREePS2",
        "outputId": "bb66411b-1460-42f6-c3b9-a2fe805ee9bd"
      },
      "execution_count": 9,
      "outputs": [
        {
          "output_type": "stream",
          "name": "stdout",
          "text": [
            "0\n",
            "1\n",
            "2\n",
            "3\n",
            "4\n"
          ]
        }
      ]
    }
  ]
}