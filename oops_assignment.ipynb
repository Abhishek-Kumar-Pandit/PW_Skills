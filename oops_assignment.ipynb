{
  "nbformat": 4,
  "nbformat_minor": 0,
  "metadata": {
    "colab": {
      "provenance": []
    },
    "kernelspec": {
      "name": "python3",
      "display_name": "Python 3"
    },
    "language_info": {
      "name": "python"
    }
  },
  "cells": [
    {
      "cell_type": "markdown",
      "source": [
        "1. What are the five key concepts of Object-Oriented Programming (OOP)?\n",
        "\n",
        "Ans :     \n",
        "\n",
        "a. Class and Object\n",
        "* Class: A blueprint or template that defines the structure and behavior (properties and methods) of objects.\n",
        "* Object: An instance of a class, representing a specific entity with defined attributes and behaviors.\n",
        "\n",
        "b. Encapsulation\n",
        "* The bundling of data (attributes) and methods (functions) that operate on the data into a single unit (class).\n",
        "* Access to the data is restricted, typically through private or protected access modifiers, with controlled exposure using public methods (getters and setters).\n",
        "\n",
        "c. Inheritance\n",
        "* A mechanism that allows a new class (subclass or derived class) to inherit properties and methods from an existing class (superclass or base class).\n",
        "* Promotes code reuse and establishes a hierarchical relationship between classes.\n",
        "\n",
        "d. Polymorphism\n",
        "* The ability of different objects to respond to the same method call in different ways, often through method overriding or overloading.\n",
        "* Enables flexibility and the use of a single interface for multiple data types.\n",
        "\n",
        "e. Abstraction\n",
        "* The process of hiding the complex implementation details and exposing only the essential features and functionalities.\n",
        "* Achieved through abstract classes and interfaces, focusing on \"what\" an object does rather than \"how\" it does it."
      ],
      "metadata": {
        "id": "czsml6TiMXGb"
      }
    },
    {
      "cell_type": "markdown",
      "source": [
        "2.  Write a Python class for a `Car` with attributes for `make`, `model`, and `year`. Include a method to display the car's information.\n",
        "\n",
        "Ans :    \n",
        "\n"
      ],
      "metadata": {
        "id": "jKezRhUVNbe6"
      }
    },
    {
      "cell_type": "code",
      "source": [
        "class Car:\n",
        "    def __init__(self, make, model, year):\n",
        "        self.make = make\n",
        "        self.model = model\n",
        "        self.year = year\n",
        "\n",
        "    def display_info(self):\n",
        "        print(f\"Car Information: {self.year} {self.make} {self.model}\")\n",
        "\n",
        "# Example usage\n",
        "my_car = Car(\"Toyota\", \"Camry\", 2021)\n",
        "my_car.display_info()\n"
      ],
      "metadata": {
        "colab": {
          "base_uri": "https://localhost:8080/"
        },
        "id": "22fTIBLoN4j9",
        "outputId": "c3714012-9045-4ff9-944d-9e257946660b"
      },
      "execution_count": 1,
      "outputs": [
        {
          "output_type": "stream",
          "name": "stdout",
          "text": [
            "Car Information: 2021 Toyota Camry\n"
          ]
        }
      ]
    },
    {
      "cell_type": "markdown",
      "source": [
        "3.  Explain the difference between instance methods and class methods. Provide an example of each.\n",
        "\n",
        "Ans :    \n",
        "\n",
        "Difference Between Instance Methods and Class Methods:\n",
        "\n",
        "Instance Methods:\n",
        "* Operate on individual instances of the class.\n",
        "* Can access and modify both instance and class attributes.\n",
        "* Use self as the first parameter to refer to the specific instance.\n",
        "* No decorator is needed.\n",
        "\n",
        "Class Methods:\n",
        "* Operate on the class itself rather than any particular instance.\n",
        "* Can only access class attributes, not instance attributes.\n",
        "* Use cls as the first parameter to refer to the class.\n",
        "* Require the @classmethod decorator."
      ],
      "metadata": {
        "id": "ogfS7nvWOFrm"
      }
    },
    {
      "cell_type": "code",
      "source": [
        "class Car:\n",
        "    total_cars = 0  # Class attribute\n",
        "\n",
        "    def __init__(self, make, model, year):\n",
        "        self.make = make\n",
        "        self.model = model\n",
        "        self.year = year\n",
        "        Car.total_cars += 1\n",
        "\n",
        "    # Instance method\n",
        "    def display_info(self):\n",
        "        return f\"Car: {self.year} {self.make} {self.model}\"\n",
        "\n",
        "    # Class method\n",
        "    @classmethod\n",
        "    def display_total_cars(cls):\n",
        "        return f\"Total Cars: {cls.total_cars}\"\n",
        "\n",
        "# Example usage\n",
        "car1 = Car(\"Toyota\", \"Camry\", 2021)\n",
        "car2 = Car(\"Honda\", \"Civic\", 2023)\n",
        "\n",
        "print(car1.display_info())\n",
        "print(Car.display_total_cars())"
      ],
      "metadata": {
        "colab": {
          "base_uri": "https://localhost:8080/"
        },
        "id": "CGUs8hj6O90D",
        "outputId": "bd6851be-8893-4c07-c903-3098bd2f3bfd"
      },
      "execution_count": 2,
      "outputs": [
        {
          "output_type": "stream",
          "name": "stdout",
          "text": [
            "Car: 2021 Toyota Camry\n",
            "Total Cars: 2\n"
          ]
        }
      ]
    },
    {
      "cell_type": "markdown",
      "source": [
        "4. How does Python implement method overloading? Give an example.\n",
        "\n",
        "Ans :    \n",
        "\n",
        "Method Overloading in Python\n",
        "\n",
        "Python does not support traditional method overloading where multiple methods with the same name but different parameter lists are defined. Instead, Python handles this using a single method with flexible parameters, such as:\n",
        "* Default Parameters\n",
        "* Variable-Length Arguments (*args, **kwargs)\n",
        "* Type Checking\n",
        "\n",
        "Example: Method Overloading Using Default Parameters"
      ],
      "metadata": {
        "id": "FTkY1JZ8PTRe"
      }
    },
    {
      "cell_type": "code",
      "source": [
        "class MathOperations:\n",
        "    def multiply(self, a, b=1, c=1):\n",
        "        return a * b * c\n",
        "\n",
        "# Example usage\n",
        "math_op = MathOperations()\n",
        "print(math_op.multiply(5))\n",
        "print(math_op.multiply(5, 10))\n",
        "print(math_op.multiply(5, 10, 2))\n"
      ],
      "metadata": {
        "colab": {
          "base_uri": "https://localhost:8080/"
        },
        "id": "YDauPIpzgmpO",
        "outputId": "0b164ac8-2111-4426-f1e3-528a5a30facd"
      },
      "execution_count": 1,
      "outputs": [
        {
          "output_type": "stream",
          "name": "stdout",
          "text": [
            "5\n",
            "50\n",
            "100\n"
          ]
        }
      ]
    },
    {
      "cell_type": "markdown",
      "source": [
        "Example: Method Overloading Using *args"
      ],
      "metadata": {
        "id": "VBTnaQw6gwmW"
      }
    },
    {
      "cell_type": "code",
      "source": [
        "class MathOperations:\n",
        "    def add(self, *args):\n",
        "        return sum(args)\n",
        "\n",
        "# Example usage\n",
        "math_op = MathOperations()\n",
        "print(math_op.add(5))\n",
        "print(math_op.add(5, 10))\n",
        "print(math_op.add(5, 10, 15, 20))\n"
      ],
      "metadata": {
        "colab": {
          "base_uri": "https://localhost:8080/"
        },
        "id": "hDdpTxREgxhe",
        "outputId": "cc031da0-4389-4660-96fb-958a98d85bb3"
      },
      "execution_count": 2,
      "outputs": [
        {
          "output_type": "stream",
          "name": "stdout",
          "text": [
            "5\n",
            "15\n",
            "50\n"
          ]
        }
      ]
    },
    {
      "cell_type": "markdown",
      "source": [
        "Example: Method Overloading Using Type Checking"
      ],
      "metadata": {
        "id": "p_KaR__Gg9kf"
      }
    },
    {
      "cell_type": "code",
      "source": [
        "class Printer:\n",
        "    def print_data(self, data):\n",
        "        if isinstance(data, list):\n",
        "            print(\"List:\", data)\n",
        "        elif isinstance(data, str):\n",
        "            print(\"String:\", data)\n",
        "        elif isinstance(data, int):\n",
        "            print(\"Integer:\", data)\n",
        "        else:\n",
        "            print(\"Unknown Type:\", data)\n",
        "\n",
        "# Example usage\n",
        "printer = Printer()\n",
        "printer.print_data(\"Hello\")\n",
        "printer.print_data([1, 2, 3])\n",
        "printer.print_data(42)\n"
      ],
      "metadata": {
        "colab": {
          "base_uri": "https://localhost:8080/"
        },
        "id": "HSPPqdQ1g-fn",
        "outputId": "bd6ce261-f820-4128-cacb-1adb95e90e2d"
      },
      "execution_count": 3,
      "outputs": [
        {
          "output_type": "stream",
          "name": "stdout",
          "text": [
            "String: Hello\n",
            "List: [1, 2, 3]\n",
            "Integer: 42\n"
          ]
        }
      ]
    },
    {
      "cell_type": "markdown",
      "source": [
        "5.  What are the three types of access modifiers in Python? How are they denoted?\n",
        "\n",
        "Ans :    \n",
        "\n",
        "Python provides three types of access modifiers to control the visibility of class attributes and methods:\n",
        "\n",
        "a. Public\n",
        "* Definition: Accessible from anywhere (inside and outside the class).\n",
        "* Denotation: No special prefix (default).\n",
        "* Example:\n"
      ],
      "metadata": {
        "id": "m4ouDk0LhKeQ"
      }
    },
    {
      "cell_type": "code",
      "source": [
        "class Example:\n",
        "    def __init__(self):\n",
        "        self.public_var = \"I am public\"\n",
        "\n",
        "    def public_method(self):\n",
        "        print(\"This is a public method.\")\n",
        "\n",
        "obj = Example()\n",
        "print(obj.public_var)\n",
        "obj.public_method()\n"
      ],
      "metadata": {
        "colab": {
          "base_uri": "https://localhost:8080/"
        },
        "id": "GQEvxsykhrMc",
        "outputId": "7c991c50-ba3c-4edc-cf83-d949879e1b41"
      },
      "execution_count": 4,
      "outputs": [
        {
          "output_type": "stream",
          "name": "stdout",
          "text": [
            "I am public\n",
            "This is a public method.\n"
          ]
        }
      ]
    },
    {
      "cell_type": "markdown",
      "source": [
        "b. Protected\n",
        "* Definition: Accessible within the class and subclasses but not intended for external use.\n",
        "* Denotation: Prefixed with a single underscore (_).\n",
        "* Example:"
      ],
      "metadata": {
        "id": "98ozgTnxh17r"
      }
    },
    {
      "cell_type": "code",
      "source": [
        "class Example:\n",
        "    def __init__(self):\n",
        "        self._protected_var = \"I am protected\"\n",
        "\n",
        "    def _protected_method(self):\n",
        "        print(\"This is a protected method.\")\n",
        "\n",
        "obj = Example()\n",
        "print(obj._protected_var)\n",
        "obj._protected_method()\n"
      ],
      "metadata": {
        "id": "sVr5t3hUh7zB"
      },
      "execution_count": null,
      "outputs": []
    },
    {
      "cell_type": "markdown",
      "source": [
        "c. Private\n",
        "* Definition: Accessible only within the class where it is defined (not accessible from subclasses or outside).\n",
        "* Denotation: Prefixed with a double underscore (__).\n",
        "* Example:"
      ],
      "metadata": {
        "id": "kijDlIakiC0H"
      }
    },
    {
      "cell_type": "code",
      "source": [
        "class Example:\n",
        "    def __init__(self):\n",
        "        self.__private_var = \"I am private\"\n",
        "\n",
        "    def __private_method(self):\n",
        "        print(\"This is a private method.\")\n",
        "\n",
        "    def access_private(self):\n",
        "        print(self.__private_var)\n",
        "        self.__private_method()\n",
        "\n",
        "obj = Example()\n",
        "# print(obj.__private_var)\n",
        "# obj.__private_method()\n",
        "obj.access_private()\n"
      ],
      "metadata": {
        "colab": {
          "base_uri": "https://localhost:8080/"
        },
        "id": "arBwnXewiPG_",
        "outputId": "ef42137a-f93b-460f-ac2f-ff8512bc99ab"
      },
      "execution_count": 5,
      "outputs": [
        {
          "output_type": "stream",
          "name": "stdout",
          "text": [
            "I am private\n",
            "This is a private method.\n"
          ]
        }
      ]
    },
    {
      "cell_type": "markdown",
      "source": [
        "6. Describe the five types of inheritance in Python. Provide a simple example of multiple inheritance.\n",
        "\n",
        "Ans :    \n",
        "\n",
        "Five Types of Inheritance in Python:\n",
        "\n",
        "a. Single Inheritance\n",
        "* A subclass inherits from one superclass."
      ],
      "metadata": {
        "id": "uoXNvmfPiYtY"
      }
    },
    {
      "cell_type": "code",
      "source": [
        "class Parent:\n",
        "    def greet(self):\n",
        "        print(\"Hello from Parent\")\n",
        "\n",
        "class Child(Parent):\n",
        "    pass\n",
        "\n",
        "obj = Child()\n",
        "obj.greet()\n"
      ],
      "metadata": {
        "colab": {
          "base_uri": "https://localhost:8080/"
        },
        "id": "Us9TO_oCivSq",
        "outputId": "58e86e15-9490-4c44-d8dd-09a4f660fe53"
      },
      "execution_count": 6,
      "outputs": [
        {
          "output_type": "stream",
          "name": "stdout",
          "text": [
            "Hello from Parent\n"
          ]
        }
      ]
    },
    {
      "cell_type": "markdown",
      "source": [
        "b. Multiple Inheritance\n",
        "\n",
        "* A subclass inherits from more than one superclass."
      ],
      "metadata": {
        "id": "--gLHDcOi2oD"
      }
    },
    {
      "cell_type": "code",
      "source": [
        "class Parent1:\n",
        "    def greet(self):\n",
        "        print(\"Hello from Parent1\")\n",
        "\n",
        "class Parent2:\n",
        "    def farewell(self):\n",
        "        print(\"Goodbye from Parent2\")\n",
        "\n",
        "class Child(Parent1, Parent2):\n",
        "    pass\n",
        "\n",
        "obj = Child()\n",
        "obj.greet()\n",
        "obj.farewell()\n"
      ],
      "metadata": {
        "colab": {
          "base_uri": "https://localhost:8080/"
        },
        "id": "mY2pNX5OjACc",
        "outputId": "85ab64a1-5feb-464c-9b72-5c471ec5b1e1"
      },
      "execution_count": 7,
      "outputs": [
        {
          "output_type": "stream",
          "name": "stdout",
          "text": [
            "Hello from Parent1\n",
            "Goodbye from Parent2\n"
          ]
        }
      ]
    },
    {
      "cell_type": "markdown",
      "source": [
        "c. Multilevel Inheritance\n",
        "\n",
        "* A chain of inheritance where a subclass inherits from a superclass, and another subclass inherits from the first subclass."
      ],
      "metadata": {
        "id": "LcIl9oB_jPe_"
      }
    },
    {
      "cell_type": "code",
      "source": [
        "class Grandparent:\n",
        "    def greet(self):\n",
        "        print(\"Hello from Grandparent\")\n",
        "\n",
        "class Parent(Grandparent):\n",
        "    pass\n",
        "\n",
        "class Child(Parent):\n",
        "    pass\n",
        "\n",
        "obj = Child()\n",
        "obj.greet()\n"
      ],
      "metadata": {
        "id": "ESNFSeiHjTRH"
      },
      "execution_count": null,
      "outputs": []
    },
    {
      "cell_type": "markdown",
      "source": [
        "d. Hierarchical Inheritance\n",
        "\n",
        "* Multiple subclasses inherit from a single superclass."
      ],
      "metadata": {
        "id": "KqduxyiujajX"
      }
    },
    {
      "cell_type": "code",
      "source": [
        "class Parent:\n",
        "    def greet(self):\n",
        "        print(\"Hello from Parent\")\n",
        "\n",
        "class Child1(Parent):\n",
        "    pass\n",
        "\n",
        "class Child2(Parent):\n",
        "    pass\n",
        "\n",
        "obj1 = Child1()\n",
        "obj2 = Child2()\n",
        "obj1.greet()  # Output: Hello from Parent\n",
        "obj2.greet()  # Output: Hello from Parent\n"
      ],
      "metadata": {
        "colab": {
          "base_uri": "https://localhost:8080/"
        },
        "id": "Vvf-JGswjkXI",
        "outputId": "68618a08-4e02-4f9c-eb29-c2ab64cad7e7"
      },
      "execution_count": 8,
      "outputs": [
        {
          "output_type": "stream",
          "name": "stdout",
          "text": [
            "Hello from Parent\n",
            "Hello from Parent\n"
          ]
        }
      ]
    },
    {
      "cell_type": "markdown",
      "source": [
        "e. Hybrid Inheritance\n",
        "\n",
        "* A combination of multiple inheritance types forming a complex hierarchy."
      ],
      "metadata": {
        "id": "80z6ck3tjtwY"
      }
    },
    {
      "cell_type": "code",
      "source": [
        "class Base:\n",
        "    def show(self):\n",
        "        print(\"Base class\")\n",
        "\n",
        "class A(Base):\n",
        "    pass\n",
        "\n",
        "class B(Base):\n",
        "    pass\n",
        "\n",
        "class C(A, B):\n",
        "    pass\n",
        "\n",
        "obj = C()\n",
        "obj.show()\n"
      ],
      "metadata": {
        "colab": {
          "base_uri": "https://localhost:8080/"
        },
        "id": "GVRyP5fmj4JK",
        "outputId": "45217a71-0021-475c-f770-c7af1aeb3d65"
      },
      "execution_count": 9,
      "outputs": [
        {
          "output_type": "stream",
          "name": "stdout",
          "text": [
            "Base class\n"
          ]
        }
      ]
    },
    {
      "cell_type": "markdown",
      "source": [
        "7.  What is the Method Resolution Order (MRO) in Python? How can you retrieve it programmatically?\n",
        "\n",
        "Ams :    \n",
        "\n",
        "Method Resolution Order (MRO) in Python:\n",
        "\n",
        "The Method Resolution Order (MRO) is the order in which Python looks for methods or attributes in a class hierarchy when there are multiple or complex inheritance scenarios. MRO ensures that:\n",
        "\n",
        "a. Methods are looked up in a consistent and predictable way.\n",
        "\n",
        "b. It follows the C3 linearization algorithm, which ensures:\n",
        "* Depth-first search.\n",
        "* Left-to-right ordering.\n",
        "* Avoids redundancy by skipping duplicate classes in the inheritance chain.\n",
        "\n",
        "How to Retrieve MRO Programmatically:\n",
        "\n",
        "You can retrieve the MRO using the following:\n",
        "\n",
        "* ClassName.__mro__: Returns a tuple showing the MRO.\n",
        "* ClassName.mro(): Returns a list showing the MRO.\n",
        "* help(ClassName): Displays detailed information, including the MRO."
      ],
      "metadata": {
        "id": "E02Wqfsgj9Qz"
      }
    },
    {
      "cell_type": "code",
      "source": [
        "class A:\n",
        "    def show(self):\n",
        "        print(\"A\")\n",
        "\n",
        "class B(A):\n",
        "    def show(self):\n",
        "        print(\"B\")\n",
        "\n",
        "class C(A):\n",
        "    def show(self):\n",
        "        print(\"C\")\n",
        "\n",
        "class D(B, C):\n",
        "    pass\n",
        "\n",
        "# Retrieving MRO\n",
        "print(D.__mro__)\n",
        "print(D.mro())\n",
        "help(D)\n"
      ],
      "metadata": {
        "colab": {
          "base_uri": "https://localhost:8080/"
        },
        "id": "5rpYQxqhkzq4",
        "outputId": "7bba16ec-b3b2-4de7-bb60-1c938e5651e3"
      },
      "execution_count": 10,
      "outputs": [
        {
          "output_type": "stream",
          "name": "stdout",
          "text": [
            "(<class '__main__.D'>, <class '__main__.B'>, <class '__main__.C'>, <class '__main__.A'>, <class 'object'>)\n",
            "[<class '__main__.D'>, <class '__main__.B'>, <class '__main__.C'>, <class '__main__.A'>, <class 'object'>]\n",
            "Help on class D in module __main__:\n",
            "\n",
            "class D(B, C)\n",
            " |  Method resolution order:\n",
            " |      D\n",
            " |      B\n",
            " |      C\n",
            " |      A\n",
            " |      builtins.object\n",
            " |  \n",
            " |  Methods inherited from B:\n",
            " |  \n",
            " |  show(self)\n",
            " |  \n",
            " |  ----------------------------------------------------------------------\n",
            " |  Data descriptors inherited from A:\n",
            " |  \n",
            " |  __dict__\n",
            " |      dictionary for instance variables (if defined)\n",
            " |  \n",
            " |  __weakref__\n",
            " |      list of weak references to the object (if defined)\n",
            "\n"
          ]
        }
      ]
    },
    {
      "cell_type": "markdown",
      "source": [
        "8. Create an abstract base class `Shape` with an abstract method `area()`. Then create two subclasses `Circle` and `Rectangle` that implement the `area()` method.\n",
        "\n",
        "Ans :     \n",
        "\n"
      ],
      "metadata": {
        "id": "hTRpPBKSk7go"
      }
    },
    {
      "cell_type": "code",
      "source": [
        "from abc import ABC, abstractmethod\n",
        "import math\n",
        "\n",
        "# Abstract Base Class\n",
        "class Shape(ABC):\n",
        "    @abstractmethod\n",
        "    def area(self):\n",
        "        pass\n",
        "\n",
        "# Subclass: Circle\n",
        "class Circle(Shape):\n",
        "    def __init__(self, radius):\n",
        "        self.radius = radius\n",
        "\n",
        "    def area(self):\n",
        "        return math.pi * self.radius ** 2\n",
        "\n",
        "# Subclass: Rectangle\n",
        "class Rectangle(Shape):\n",
        "    def __init__(self, width, height):\n",
        "        self.width = width\n",
        "        self.height = height\n",
        "\n",
        "    def area(self):\n",
        "        return self.width * self.height\n",
        "\n",
        "# Example usage\n",
        "circle = Circle(5)\n",
        "rectangle = Rectangle(4, 6)\n",
        "\n",
        "print(f\"Circle Area: {circle.area():.2f}\")\n",
        "print(f\"Rectangle Area: {rectangle.area()}\")\n"
      ],
      "metadata": {
        "colab": {
          "base_uri": "https://localhost:8080/"
        },
        "id": "NI59NW69lQR7",
        "outputId": "6c51cf58-0d41-4318-f75d-6e057582b361"
      },
      "execution_count": 11,
      "outputs": [
        {
          "output_type": "stream",
          "name": "stdout",
          "text": [
            "Circle Area: 78.54\n",
            "Rectangle Area: 24\n"
          ]
        }
      ]
    },
    {
      "cell_type": "markdown",
      "source": [
        "9.  Demonstrate polymorphism by creating a function that can work with different shape objects to calculate and print their areas\n",
        "\n",
        "Ans :     \n"
      ],
      "metadata": {
        "id": "ylmOSS9PlVvj"
      }
    },
    {
      "cell_type": "code",
      "source": [
        "from abc import ABC, abstractmethod\n",
        "import math\n",
        "\n",
        "# Abstract Base Class\n",
        "class Shape(ABC):\n",
        "    @abstractmethod\n",
        "    def area(self):\n",
        "        pass\n",
        "\n",
        "# Subclass: Circle\n",
        "class Circle(Shape):\n",
        "    def __init__(self, radius):\n",
        "        self.radius = radius\n",
        "\n",
        "    def area(self):\n",
        "        return math.pi * self.radius ** 2\n",
        "\n",
        "# Subclass: Rectangle\n",
        "class Rectangle(Shape):\n",
        "    def __init__(self, width, height):\n",
        "        self.width = width\n",
        "        self.height = height\n",
        "\n",
        "    def area(self):\n",
        "        return self.width * self.height\n",
        "\n",
        "# Subclass: Triangle\n",
        "class Triangle(Shape):\n",
        "    def __init__(self, base, height):\n",
        "        self.base = base\n",
        "        self.height = height\n",
        "\n",
        "    def area(self):\n",
        "        return 0.5 * self.base * self.height\n",
        "\n",
        "# Polymorphic function\n",
        "def print_area(shape):\n",
        "    print(f\"The area is: {shape.area():.2f}\")\n",
        "\n",
        "# Example usage\n",
        "shapes = [\n",
        "    Circle(5),\n",
        "    Rectangle(4, 6),\n",
        "    Triangle(3, 7)\n",
        "]\n",
        "\n",
        "for shape in shapes:\n",
        "    print_area(shape)\n"
      ],
      "metadata": {
        "colab": {
          "base_uri": "https://localhost:8080/"
        },
        "id": "3P0j_dNmlrv_",
        "outputId": "44b22d9d-4ff1-4f9f-c762-0f42aa2b9541"
      },
      "execution_count": 12,
      "outputs": [
        {
          "output_type": "stream",
          "name": "stdout",
          "text": [
            "The area is: 78.54\n",
            "The area is: 24.00\n",
            "The area is: 10.50\n"
          ]
        }
      ]
    },
    {
      "cell_type": "markdown",
      "source": [
        "10. Implement encapsulation in a `BankAccount` class with private attributes for `balance` and `account_number`. Include methods for deposit, withdrawal, and balance inquiry.\n",
        "\n",
        "Ans :     \n",
        "\n"
      ],
      "metadata": {
        "id": "hh47hhBYlxEf"
      }
    },
    {
      "cell_type": "code",
      "source": [
        "class BankAccount:\n",
        "    def __init__(self, account_number, initial_balance=0):\n",
        "        self.__account_number = account_number  # Private attribute\n",
        "        self.__balance = initial_balance        # Private attribute\n",
        "\n",
        "    # Public method to deposit money\n",
        "    def deposit(self, amount):\n",
        "        if amount > 0:\n",
        "            self.__balance += amount\n",
        "            print(f\"Deposited: ${amount:.2f}\")\n",
        "        else:\n",
        "            print(\"Deposit amount must be positive.\")\n",
        "\n",
        "    # Public method to withdraw money\n",
        "    def withdraw(self, amount):\n",
        "        if amount > 0:\n",
        "            if self.__balance >= amount:\n",
        "                self.__balance -= amount\n",
        "                print(f\"Withdrew: ${amount:.2f}\")\n",
        "            else:\n",
        "                print(\"Insufficient balance.\")\n",
        "        else:\n",
        "            print(\"Withdrawal amount must be positive.\")\n",
        "\n",
        "    # Public method to check balance\n",
        "    def get_balance(self):\n",
        "        print(f\"Current balance: ${self.__balance:.2f}\")\n",
        "\n",
        "    # Public method to get account number (read-only)\n",
        "    def get_account_number(self):\n",
        "        return self.__account_number\n",
        "\n",
        "# Example usage\n",
        "account = BankAccount(\"123456789\", 1000)\n",
        "print(f\"Account Number: {account.get_account_number()}\")\n",
        "account.get_balance()\n",
        "\n",
        "account.deposit(500)\n",
        "account.get_balance()\n",
        "\n",
        "account.withdraw(300)\n",
        "account.get_balance()\n",
        "\n",
        "account.withdraw(1500)\n"
      ],
      "metadata": {
        "colab": {
          "base_uri": "https://localhost:8080/"
        },
        "id": "3SBrXk-vmFw5",
        "outputId": "6a7ce8de-977d-4a0b-98fd-0d8cd26a52ee"
      },
      "execution_count": 13,
      "outputs": [
        {
          "output_type": "stream",
          "name": "stdout",
          "text": [
            "Account Number: 123456789\n",
            "Current balance: $1000.00\n",
            "Deposited: $500.00\n",
            "Current balance: $1500.00\n",
            "Withdrew: $300.00\n",
            "Current balance: $1200.00\n",
            "Insufficient balance.\n"
          ]
        }
      ]
    },
    {
      "cell_type": "markdown",
      "source": [
        "11. Write a class that overrides the `__str__` and `__add__` magic methods. What will these methods allow you to do?\n",
        "\n",
        "Ans :    \n",
        "\n",
        "Overriding __str__ and __add__ Magic Methods:\n",
        "* __str__: This method is called when you use str(object) or print(object). It allows you to define a custom string representation of the object.\n",
        "\n",
        "* __add__: This method is called when the + operator is used between two objects of the class. It allows you to define custom behavior for the addition operator.\n",
        "\n"
      ],
      "metadata": {
        "id": "wFntrr1bmP_K"
      }
    },
    {
      "cell_type": "code",
      "source": [
        "class Person:\n",
        "    def __init__(self, name, age):\n",
        "        self.name = name\n",
        "        self.age = age\n",
        "\n",
        "    # Override __str__ to customize string representation\n",
        "    def __str__(self):\n",
        "        return f\"Person(Name: {self.name}, Age: {self.age})\"\n",
        "\n",
        "    # Override __add__ to define custom addition behavior\n",
        "    def __add__(self, other):\n",
        "        if isinstance(other, Person):\n",
        "            # Concatenate names and average ages when adding two Person objects\n",
        "            combined_name = f\"{self.name} & {other.name}\"\n",
        "            average_age = (self.age + other.age) // 2\n",
        "            return Person(combined_name, average_age)\n",
        "        raise TypeError(\"Cannot add Person with a non-Person object\")\n",
        "\n",
        "# Example usage\n",
        "person1 = Person(\"Alice\", 30)\n",
        "person2 = Person(\"Bob\", 40)\n",
        "\n",
        "print(person1)\n",
        "print(person2)\n",
        "\n",
        "combined_person = person1 + person2\n",
        "print(combined_person)\n"
      ],
      "metadata": {
        "colab": {
          "base_uri": "https://localhost:8080/"
        },
        "id": "ycs3ef7FmqKU",
        "outputId": "d24bbbb3-caf7-4eaf-c244-1e3bb0a830a1"
      },
      "execution_count": 14,
      "outputs": [
        {
          "output_type": "stream",
          "name": "stdout",
          "text": [
            "Person(Name: Alice, Age: 30)\n",
            "Person(Name: Bob, Age: 40)\n",
            "Person(Name: Alice & Bob, Age: 35)\n"
          ]
        }
      ]
    },
    {
      "cell_type": "markdown",
      "source": [
        "12.  Create a decorator that measures and prints the execution time of a function.\n",
        "\n",
        "Ans\n",
        "\n"
      ],
      "metadata": {
        "id": "XESjyo3dm4ke"
      }
    },
    {
      "cell_type": "code",
      "source": [
        "import time\n",
        "\n",
        "# Decorator to measure execution time\n",
        "def measure_execution_time(func):\n",
        "    def wrapper(*args, **kwargs):\n",
        "        start_time = time.time()\n",
        "        result = func(*args, **kwargs)\n",
        "        end_time = time.time()\n",
        "        execution_time = end_time - start_time\n",
        "        print(f\"Execution time: {execution_time:.4f} seconds\")\n",
        "        return result\n",
        "    return wrapper\n",
        "\n",
        "# Example usage with a test function\n",
        "@measure_execution_time\n",
        "def example_function(n):\n",
        "    total = 0\n",
        "    for i in range(n):\n",
        "        total += i\n",
        "    return total\n",
        "\n",
        "# Call the function\n",
        "result = example_function(1_000_000)\n",
        "print(f\"Result: {result}\")\n"
      ],
      "metadata": {
        "colab": {
          "base_uri": "https://localhost:8080/"
        },
        "id": "x0nEssQknNzX",
        "outputId": "10e5d08c-d857-4e60-ce26-f5e68c5a21d7"
      },
      "execution_count": 15,
      "outputs": [
        {
          "output_type": "stream",
          "name": "stdout",
          "text": [
            "Execution time: 0.0754 seconds\n",
            "Result: 499999500000\n"
          ]
        }
      ]
    },
    {
      "cell_type": "markdown",
      "source": [
        "13. Explain the concept of the Diamond Problem in multiple inheritance. How does Python resolve it?\n",
        "\n",
        "Ans :    \n",
        "\n",
        "The Diamond Problem in Multiple Inheritance\n",
        "\n",
        "The Diamond Problem occurs in object-oriented programming (OOP) when a class inherits from two classes that both inherit from the same base class. The issue arises when there are conflicting methods or attributes in the inheritance hierarchy, causing ambiguity about which method or attribute to inherit.\n",
        "\n",
        "Consider the following example:"
      ],
      "metadata": {
        "id": "n2lSicC8nseZ"
      }
    },
    {
      "cell_type": "code",
      "source": [
        "        A\n",
        "       / \\\n",
        "      B   C\n",
        "       \\ /\n",
        "        D\n"
      ],
      "metadata": {
        "id": "PUnRL6hkoGVc"
      },
      "execution_count": null,
      "outputs": []
    },
    {
      "cell_type": "markdown",
      "source": [
        "* Class D inherits from both classes B and C.\n",
        "* Both B and C inherit from class A.\n",
        "* If classes B and C override the method foo from class A, and D inherits from both B and C, the question arises: which version of foo() should D inherit? This creates a method resolution ambiguity.\n",
        "\n",
        "Example of the Diamond Problem:"
      ],
      "metadata": {
        "id": "eRU4muh3oIpE"
      }
    },
    {
      "cell_type": "code",
      "source": [
        "class A:\n",
        "    def speak(self):\n",
        "        print(\"Speaking from class A\")\n",
        "\n",
        "class B(A):\n",
        "    def speak(self):\n",
        "        print(\"Speaking from class B\")\n",
        "\n",
        "class C(A):\n",
        "    def speak(self):\n",
        "        print(\"Speaking from class C\")\n",
        "\n",
        "class D(B, C):\n",
        "    pass\n",
        "\n",
        "# Example usage\n",
        "d = D()\n",
        "d.speak()\n"
      ],
      "metadata": {
        "colab": {
          "base_uri": "https://localhost:8080/"
        },
        "id": "g1X4HNo2oULW",
        "outputId": "aa9912fc-7f2e-4d1b-fc47-6c471aaf6f5b"
      },
      "execution_count": 16,
      "outputs": [
        {
          "output_type": "stream",
          "name": "stdout",
          "text": [
            "Speaking from class B\n"
          ]
        }
      ]
    },
    {
      "cell_type": "markdown",
      "source": [
        "In this example:\n",
        "\n",
        "* D inherits from both B and C, and both B and C override the speak() method from A.\n",
        "* Which version of speak() should D inherit?\n",
        "\n",
        "How Python Resolves the Diamond Problem\n",
        "\n",
        "Python resolves the Diamond Problem using the C3 Linearization Algorithm (also known as C3 superclass linearization). This algorithm provides a clear, unambiguous order in which classes are searched for methods and attributes.\n",
        "\n",
        "* The algorithm ensures that:\n",
        "* Parent classes are searched from left to right in the inheritance order.\n",
        "* No class is repeated in the method resolution order.\n",
        "* The method resolution order follows the order of classes in the inheritance hierarchy.\n",
        "\n",
        "For the class D in the above example, Python resolves the method search order as follows:\n",
        "\n",
        "* D → B → C → A (The speak() method in class B will be used.)\n",
        "This means that the method in class B will be invoked, not the one in class C, even though both override A's method.\n",
        "\n",
        "MRO (Method Resolution Order) in Python\n",
        "\n",
        "You can view the Method Resolution Order (MRO) of a class by using the mro() method or __mro__ attribute.\n"
      ],
      "metadata": {
        "id": "K2uKelxOobQe"
      }
    },
    {
      "cell_type": "code",
      "source": [
        "print(D.mro())\n",
        "print(D.__mro__)\n"
      ],
      "metadata": {
        "colab": {
          "base_uri": "https://localhost:8080/"
        },
        "id": "9dORPs9MpFp6",
        "outputId": "89664a6b-fe71-495d-a528-3e5373cfd202"
      },
      "execution_count": 17,
      "outputs": [
        {
          "output_type": "stream",
          "name": "stdout",
          "text": [
            "[<class '__main__.D'>, <class '__main__.B'>, <class '__main__.C'>, <class '__main__.A'>, <class 'object'>]\n",
            "(<class '__main__.D'>, <class '__main__.B'>, <class '__main__.C'>, <class '__main__.A'>, <class 'object'>)\n"
          ]
        }
      ]
    },
    {
      "cell_type": "markdown",
      "source": [
        "14. Write a class method that keeps track of the number of instances created from a class.\n",
        "\n",
        "Ans :    \n",
        "\n",
        "Class Method to Track the Number of Instances\n",
        "\n",
        "You can use a class method to keep track of how many instances are created from a class. This can be done by maintaining a class-level variable that increments every time an instance of the class is created.\n",
        "\n",
        "Here's an example :    "
      ],
      "metadata": {
        "id": "vxuEB8TjpMEj"
      }
    },
    {
      "cell_type": "code",
      "source": [
        "class MyClass:\n",
        "    # Class variable to count instances\n",
        "    instance_count = 0\n",
        "\n",
        "    def __init__(self):\n",
        "        # Increment instance count each time an object is created\n",
        "        MyClass.instance_count += 1\n",
        "\n",
        "    # Class method to get the current instance count\n",
        "    @classmethod\n",
        "    def get_instance_count(cls):\n",
        "        return cls.instance_count\n",
        "\n",
        "# Example usage\n",
        "obj1 = MyClass()\n",
        "obj2 = MyClass()\n",
        "obj3 = MyClass()\n",
        "\n",
        "# Using the class method to get the count of instances\n",
        "print(f\"Number of instances created: {MyClass.get_instance_count()}\")\n"
      ],
      "metadata": {
        "colab": {
          "base_uri": "https://localhost:8080/"
        },
        "id": "1NjnCNoGpgSW",
        "outputId": "34f24929-5c12-4160-8bb8-0fcba0eb8864"
      },
      "execution_count": 18,
      "outputs": [
        {
          "output_type": "stream",
          "name": "stdout",
          "text": [
            "Number of instances created: 3\n"
          ]
        }
      ]
    },
    {
      "cell_type": "markdown",
      "source": [
        "15. Implement a static method in a class that checks if a given year is a leap year.\n",
        "\n",
        "Ans :    \n",
        "\n",
        "Static Method to Check Leap Year\n",
        "\n",
        "A static method in a class doesn't depend on class or instance variables. It is used when a method performs a function that doesn't modify the class or instance state.\n",
        "\n",
        "Here’s an example of how you can implement a static method in a class to check if a given year is a leap year:"
      ],
      "metadata": {
        "id": "DxHNyhszpnru"
      }
    },
    {
      "cell_type": "code",
      "source": [
        "class YearUtils:\n",
        "    @staticmethod\n",
        "    def is_leap_year(year):\n",
        "        # Leap year logic\n",
        "        if (year % 4 == 0 and year % 100 != 0) or (year % 400 == 0):\n",
        "            return True\n",
        "        else:\n",
        "            return False\n",
        "\n",
        "# Example usage\n",
        "year = 2024\n",
        "if YearUtils.is_leap_year(year):\n",
        "    print(f\"{year} is a leap year.\")\n",
        "else:\n",
        "    print(f\"{year} is not a leap year.\")\n"
      ],
      "metadata": {
        "colab": {
          "base_uri": "https://localhost:8080/"
        },
        "id": "UznLIURpp8Qw",
        "outputId": "9cac2570-e361-4516-a729-32d757209c7e"
      },
      "execution_count": 19,
      "outputs": [
        {
          "output_type": "stream",
          "name": "stdout",
          "text": [
            "2024 is a leap year.\n"
          ]
        }
      ]
    }
  ]
}